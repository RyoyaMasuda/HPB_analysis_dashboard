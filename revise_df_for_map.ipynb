{
 "cells": [
  {
   "cell_type": "code",
   "execution_count": 3,
   "metadata": {},
   "outputs": [],
   "source": [
    "import pandas as pd\n",
    "import numpy as np\n",
    "df = pd.read_csv('./data/for_map_df_tmp.csv', low_memory=False\n",
    "            )\n",
    "pd.set_option('display.max_columns', None)"
   ]
  },
  {
   "cell_type": "code",
   "execution_count": 5,
   "metadata": {},
   "outputs": [
    {
     "data": {
      "text/plain": [
       "Index(['県', 'エリア', 'サロン名', 'URL', '住所', 'アクセス', 'カット料金', 'セット面の数', 'ブログ投稿数',\n",
       "       '口コミ数', 'スタッフ数', '1番人気クーポン名', '1番人気クーポン価格', '2番人気クーポン名', '2番人気クーポン価格',\n",
       "       '3番人気クーポン名', '3番人気クーポン価格', 'クーポン数', 'メニュー数', 'スタイル数', 'ブログ数',\n",
       "       '口コミスコアサロン全平均', '雰囲気の全平均', '接客サービスの全平均', '技術・仕上がりの全平均', 'メニュー。料金の全平均',\n",
       "       'イルミナメニュー化の有無', 'Aujuaメニュー化の有無', '緯度', '経度'],\n",
       "      dtype='object')"
      ]
     },
     "execution_count": 5,
     "metadata": {},
     "output_type": "execute_result"
    }
   ],
   "source": [
    "df.columns"
   ]
  },
  {
   "cell_type": "code",
   "execution_count": null,
   "metadata": {},
   "outputs": [],
   "source": []
  }
 ],
 "metadata": {
  "kernelspec": {
   "display_name": ".env",
   "language": "python",
   "name": "python3"
  },
  "language_info": {
   "codemirror_mode": {
    "name": "ipython",
    "version": 3
   },
   "file_extension": ".py",
   "mimetype": "text/x-python",
   "name": "python",
   "nbconvert_exporter": "python",
   "pygments_lexer": "ipython3",
   "version": "3.8.10"
  },
  "orig_nbformat": 4
 },
 "nbformat": 4,
 "nbformat_minor": 2
}
