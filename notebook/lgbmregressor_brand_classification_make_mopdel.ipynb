{
 "cells": [
  {
   "cell_type": "code",
   "execution_count": 208,
   "id": "2e70af23-4de1-4f8d-bd92-917011ab81fe",
   "metadata": {},
   "outputs": [],
   "source": [
    "%matplotlib inline\n",
    "import pandas as pd\n",
    "import numpy as np\n",
    "from sklearn.model_selection import train_test_split, StratifiedKFold, GridSearchCV, KFold\n",
    "from lightgbm import LGBMRegressor\n",
    "# class sklearn.model_selection.StratifiedKFold(n_splits=5,\n",
    "#     shuffle=False, random_state=None)\n",
    "from typing import Union, Tuple\n",
    "import warnings\n",
    "import numpy as np\n",
    "import scipy.stats as stats\n",
    "warnings.simplefilter('ignore')\n",
    "warnings.simplefilter('ignore')\n",
    "\n",
    "pd.set_option('display.max_columns', None)"
   ]
  },
  {
   "cell_type": "code",
   "execution_count": 209,
   "id": "9e62ccef-8813-4caf-9052-2b70c0bebbb3",
   "metadata": {},
   "outputs": [
    {
     "data": {
      "text/html": [
       "<div>\n",
       "<style scoped>\n",
       "    .dataframe tbody tr th:only-of-type {\n",
       "        vertical-align: middle;\n",
       "    }\n",
       "\n",
       "    .dataframe tbody tr th {\n",
       "        vertical-align: top;\n",
       "    }\n",
       "\n",
       "    .dataframe thead th {\n",
       "        text-align: right;\n",
       "    }\n",
       "</style>\n",
       "<table border=\"1\" class=\"dataframe\">\n",
       "  <thead>\n",
       "    <tr style=\"text-align: right;\">\n",
       "      <th></th>\n",
       "      <th>県</th>\n",
       "      <th>エリア</th>\n",
       "      <th>サロン名</th>\n",
       "      <th>セット面の数</th>\n",
       "      <th>ブログ投稿数</th>\n",
       "      <th>口コミ数</th>\n",
       "      <th>スタッフ数</th>\n",
       "      <th>クーポン数</th>\n",
       "      <th>メニュー数</th>\n",
       "      <th>スタイル数</th>\n",
       "      <th>コメントへの返信率</th>\n",
       "      <th>駅徒歩</th>\n",
       "      <th>イルミナメニュー化の有無</th>\n",
       "      <th>Aujuaメニュー化の有無</th>\n",
       "      <th>addicthyメニュー化の有無</th>\n",
       "      <th>inoaメニュー化の有無</th>\n",
       "    </tr>\n",
       "  </thead>\n",
       "  <tbody>\n",
       "    <tr>\n",
       "      <th>0</th>\n",
       "      <td>島根</td>\n",
       "      <td>松江</td>\n",
       "      <td>Rote【ロテ】</td>\n",
       "      <td>18</td>\n",
       "      <td>237</td>\n",
       "      <td>179</td>\n",
       "      <td>7</td>\n",
       "      <td>24</td>\n",
       "      <td>41</td>\n",
       "      <td>48</td>\n",
       "      <td>0.983</td>\n",
       "      <td>5.0</td>\n",
       "      <td>0</td>\n",
       "      <td>0</td>\n",
       "      <td>0</td>\n",
       "      <td>0</td>\n",
       "    </tr>\n",
       "    <tr>\n",
       "      <th>1</th>\n",
       "      <td>島根</td>\n",
       "      <td>松江</td>\n",
       "      <td>freedom belinda 松江学園店　【フリーダム　ベリンダ】</td>\n",
       "      <td>10</td>\n",
       "      <td>15</td>\n",
       "      <td>161</td>\n",
       "      <td>8</td>\n",
       "      <td>34</td>\n",
       "      <td>42</td>\n",
       "      <td>5</td>\n",
       "      <td>0.130</td>\n",
       "      <td>NaN</td>\n",
       "      <td>0</td>\n",
       "      <td>0</td>\n",
       "      <td>1</td>\n",
       "      <td>0</td>\n",
       "    </tr>\n",
       "    <tr>\n",
       "      <th>2</th>\n",
       "      <td>島根</td>\n",
       "      <td>松江</td>\n",
       "      <td>SMITH AVEDA</td>\n",
       "      <td>10</td>\n",
       "      <td>97</td>\n",
       "      <td>209</td>\n",
       "      <td>5</td>\n",
       "      <td>15</td>\n",
       "      <td>24</td>\n",
       "      <td>23</td>\n",
       "      <td>0.981</td>\n",
       "      <td>NaN</td>\n",
       "      <td>0</td>\n",
       "      <td>0</td>\n",
       "      <td>0</td>\n",
       "      <td>0</td>\n",
       "    </tr>\n",
       "    <tr>\n",
       "      <th>3</th>\n",
       "      <td>島根</td>\n",
       "      <td>松江</td>\n",
       "      <td>freedom rita【フリーダム　リタ】</td>\n",
       "      <td>4</td>\n",
       "      <td>0</td>\n",
       "      <td>63</td>\n",
       "      <td>3</td>\n",
       "      <td>29</td>\n",
       "      <td>37</td>\n",
       "      <td>0</td>\n",
       "      <td>0.000</td>\n",
       "      <td>NaN</td>\n",
       "      <td>0</td>\n",
       "      <td>0</td>\n",
       "      <td>0</td>\n",
       "      <td>0</td>\n",
       "    </tr>\n",
       "    <tr>\n",
       "      <th>4</th>\n",
       "      <td>島根</td>\n",
       "      <td>松江</td>\n",
       "      <td>lamiell matsue　【ラミールマツエ】</td>\n",
       "      <td>8</td>\n",
       "      <td>104</td>\n",
       "      <td>340</td>\n",
       "      <td>8</td>\n",
       "      <td>30</td>\n",
       "      <td>26</td>\n",
       "      <td>44</td>\n",
       "      <td>0.767</td>\n",
       "      <td>NaN</td>\n",
       "      <td>0</td>\n",
       "      <td>1</td>\n",
       "      <td>0</td>\n",
       "      <td>0</td>\n",
       "    </tr>\n",
       "    <tr>\n",
       "      <th>...</th>\n",
       "      <td>...</td>\n",
       "      <td>...</td>\n",
       "      <td>...</td>\n",
       "      <td>...</td>\n",
       "      <td>...</td>\n",
       "      <td>...</td>\n",
       "      <td>...</td>\n",
       "      <td>...</td>\n",
       "      <td>...</td>\n",
       "      <td>...</td>\n",
       "      <td>...</td>\n",
       "      <td>...</td>\n",
       "      <td>...</td>\n",
       "      <td>...</td>\n",
       "      <td>...</td>\n",
       "      <td>...</td>\n",
       "    </tr>\n",
       "    <tr>\n",
       "      <th>4074</th>\n",
       "      <td>福山・尾道</td>\n",
       "      <td>福山駅前・三吉周辺</td>\n",
       "      <td>Chill hair</td>\n",
       "      <td>1</td>\n",
       "      <td>0</td>\n",
       "      <td>50</td>\n",
       "      <td>1</td>\n",
       "      <td>0</td>\n",
       "      <td>16</td>\n",
       "      <td>0</td>\n",
       "      <td>0.000</td>\n",
       "      <td>NaN</td>\n",
       "      <td>0</td>\n",
       "      <td>0</td>\n",
       "      <td>0</td>\n",
       "      <td>0</td>\n",
       "    </tr>\n",
       "    <tr>\n",
       "      <th>4075</th>\n",
       "      <td>福山・尾道</td>\n",
       "      <td>福山駅前・三吉周辺</td>\n",
       "      <td>SOYU headspa by Palm 【ソユ】</td>\n",
       "      <td>2</td>\n",
       "      <td>0</td>\n",
       "      <td>33</td>\n",
       "      <td>2</td>\n",
       "      <td>0</td>\n",
       "      <td>23</td>\n",
       "      <td>0</td>\n",
       "      <td>0.970</td>\n",
       "      <td>NaN</td>\n",
       "      <td>0</td>\n",
       "      <td>0</td>\n",
       "      <td>0</td>\n",
       "      <td>0</td>\n",
       "    </tr>\n",
       "    <tr>\n",
       "      <th>4076</th>\n",
       "      <td>福山・尾道</td>\n",
       "      <td>福山駅前・三吉周辺</td>\n",
       "      <td>Triangle</td>\n",
       "      <td>4</td>\n",
       "      <td>0</td>\n",
       "      <td>3</td>\n",
       "      <td>1</td>\n",
       "      <td>0</td>\n",
       "      <td>43</td>\n",
       "      <td>0</td>\n",
       "      <td>1.000</td>\n",
       "      <td>NaN</td>\n",
       "      <td>0</td>\n",
       "      <td>0</td>\n",
       "      <td>0</td>\n",
       "      <td>0</td>\n",
       "    </tr>\n",
       "    <tr>\n",
       "      <th>4077</th>\n",
       "      <td>福山・尾道</td>\n",
       "      <td>福山駅前・三吉周辺</td>\n",
       "      <td>Calin【カラン】</td>\n",
       "      <td>1</td>\n",
       "      <td>0</td>\n",
       "      <td>43</td>\n",
       "      <td>1</td>\n",
       "      <td>0</td>\n",
       "      <td>12</td>\n",
       "      <td>0</td>\n",
       "      <td>0.721</td>\n",
       "      <td>NaN</td>\n",
       "      <td>0</td>\n",
       "      <td>0</td>\n",
       "      <td>0</td>\n",
       "      <td>0</td>\n",
       "    </tr>\n",
       "    <tr>\n",
       "      <th>4078</th>\n",
       "      <td>福山・尾道</td>\n",
       "      <td>福山駅前・三吉周辺</td>\n",
       "      <td>Chou Chou Hair 【シュシュヘアー】</td>\n",
       "      <td>2</td>\n",
       "      <td>0</td>\n",
       "      <td>12</td>\n",
       "      <td>1</td>\n",
       "      <td>0</td>\n",
       "      <td>10</td>\n",
       "      <td>0</td>\n",
       "      <td>1.000</td>\n",
       "      <td>15.0</td>\n",
       "      <td>0</td>\n",
       "      <td>0</td>\n",
       "      <td>0</td>\n",
       "      <td>0</td>\n",
       "    </tr>\n",
       "  </tbody>\n",
       "</table>\n",
       "<p>4079 rows × 16 columns</p>\n",
       "</div>"
      ],
      "text/plain": [
       "          県        エリア                                サロン名  セット面の数  ブログ投稿数  \\\n",
       "0        島根         松江                            Rote【ロテ】      18     237   \n",
       "1        島根         松江  freedom belinda 松江学園店　【フリーダム　ベリンダ】      10      15   \n",
       "2        島根         松江                         SMITH AVEDA      10      97   \n",
       "3        島根         松江              freedom rita【フリーダム　リタ】       4       0   \n",
       "4        島根         松江            lamiell matsue　【ラミールマツエ】       8     104   \n",
       "...     ...        ...                                 ...     ...     ...   \n",
       "4074  福山・尾道  福山駅前・三吉周辺                          Chill hair       1       0   \n",
       "4075  福山・尾道  福山駅前・三吉周辺           SOYU headspa by Palm 【ソユ】       2       0   \n",
       "4076  福山・尾道  福山駅前・三吉周辺                            Triangle       4       0   \n",
       "4077  福山・尾道  福山駅前・三吉周辺                          Calin【カラン】       1       0   \n",
       "4078  福山・尾道  福山駅前・三吉周辺            Chou Chou Hair 【シュシュヘアー】       2       0   \n",
       "\n",
       "      口コミ数  スタッフ数  クーポン数  メニュー数  スタイル数  コメントへの返信率   駅徒歩  イルミナメニュー化の有無  \\\n",
       "0      179      7     24     41     48      0.983   5.0             0   \n",
       "1      161      8     34     42      5      0.130   NaN             0   \n",
       "2      209      5     15     24     23      0.981   NaN             0   \n",
       "3       63      3     29     37      0      0.000   NaN             0   \n",
       "4      340      8     30     26     44      0.767   NaN             0   \n",
       "...    ...    ...    ...    ...    ...        ...   ...           ...   \n",
       "4074    50      1      0     16      0      0.000   NaN             0   \n",
       "4075    33      2      0     23      0      0.970   NaN             0   \n",
       "4076     3      1      0     43      0      1.000   NaN             0   \n",
       "4077    43      1      0     12      0      0.721   NaN             0   \n",
       "4078    12      1      0     10      0      1.000  15.0             0   \n",
       "\n",
       "      Aujuaメニュー化の有無  addicthyメニュー化の有無  inoaメニュー化の有無  \n",
       "0                 0                 0             0  \n",
       "1                 0                 1             0  \n",
       "2                 0                 0             0  \n",
       "3                 0                 0             0  \n",
       "4                 1                 0             0  \n",
       "...             ...               ...           ...  \n",
       "4074              0                 0             0  \n",
       "4075              0                 0             0  \n",
       "4076              0                 0             0  \n",
       "4077              0                 0             0  \n",
       "4078              0                 0             0  \n",
       "\n",
       "[4079 rows x 16 columns]"
      ]
     },
     "execution_count": 209,
     "metadata": {},
     "output_type": "execute_result"
    }
   ],
   "source": [
    "df = pd.read_csv('/Users/masudaniwabinari/Desktop/HPB_analysis_dashboard/data_for_revise/prediction/brand_classification/データセット完成目的変数全て入っている.csv')\n",
    "df"
   ]
  },
  {
   "cell_type": "code",
   "execution_count": 184,
   "id": "789afc71-f2a2-41dc-8980-a16987329804",
   "metadata": {},
   "outputs": [
    {
     "data": {
      "text/plain": [
       "0    4016\n",
       "1      63\n",
       "Name: inoaメニュー化の有無, dtype: int64"
      ]
     },
     "execution_count": 184,
     "metadata": {},
     "output_type": "execute_result"
    }
   ],
   "source": [
    "df['inoaメニュー化の有無'].value_counts()"
   ]
  },
  {
   "cell_type": "code",
   "execution_count": 13,
   "id": "480da52d-89e8-4416-b35b-bd790d9feceb",
   "metadata": {},
   "outputs": [],
   "source": [
    "# 連続値の層化抽出クラスの定義\n",
    "class ContinuousStratifiedKFold:\n",
    "    def __init__(self, n_split: int=5, shuffle: bool=True, random_state: int=42) -> None:\n",
    "        self.n_split = n_split\n",
    "        self.shuffle = shuffle\n",
    "        self.random_state = random_state\n",
    "\n",
    "    def split(self, X: pd.DataFrame, reference: pd.Series, bins: int=10,\n",
    "                      suffle: Union[bool]=None, random_state: Union[int]=None) -> Tuple[np.ndarray, np.ndarray]:\n",
    "\n",
    "        shuffle = shuffle if suffle is not None else self.shuffle\n",
    "        random_state = random_state if random_state is not None else self.random_state\n",
    "        min_ref, max_ref = int(reference.min() - 1), int(reference.max() + 1)\n",
    "        cut_threshold = np.linspace(min_ref, max_ref, bins)\n",
    "        out = pd.cut(reference, bins=cut_threshold, labels=False)\n",
    "\n",
    "        skf = StratifiedKFold(self.n_split, shuffle=shuffle, random_state=random_state)\n",
    "        for train_idx, val_idx in skf.split(X, out):\n",
    "            yield train_idx, val_idx"
   ]
  },
  {
   "attachments": {},
   "cell_type": "markdown",
   "id": "33c402ca",
   "metadata": {},
   "source": [
    "# イルミナメニュー化の有無モデル作成"
   ]
  },
  {
   "cell_type": "code",
   "execution_count": 14,
   "id": "29d04038",
   "metadata": {},
   "outputs": [
    {
     "data": {
      "text/plain": [
       "Index(['県', 'エリア', 'サロン名', 'セット面の数', 'ブログ投稿数', '口コミ数', 'スタッフ数', 'クーポン数',\n",
       "       'メニュー数', 'スタイル数', 'コメントへの返信率', '駅徒歩', 'イルミナメニュー化の有無', 'Aujuaメニュー化の有無',\n",
       "       'addicthyメニュー化の有無', 'inoaメニュー化の有無'],\n",
       "      dtype='object')"
      ]
     },
     "execution_count": 14,
     "metadata": {},
     "output_type": "execute_result"
    }
   ],
   "source": [
    "df.columns"
   ]
  },
  {
   "cell_type": "code",
   "execution_count": 15,
   "id": "c58c53e8",
   "metadata": {},
   "outputs": [],
   "source": [
    "prediction_column = 'イルミナメニュー化の有無'"
   ]
  },
  {
   "cell_type": "code",
   "execution_count": 16,
   "id": "4a5cbd3d",
   "metadata": {},
   "outputs": [
    {
     "data": {
      "text/html": [
       "<div>\n",
       "<style scoped>\n",
       "    .dataframe tbody tr th:only-of-type {\n",
       "        vertical-align: middle;\n",
       "    }\n",
       "\n",
       "    .dataframe tbody tr th {\n",
       "        vertical-align: top;\n",
       "    }\n",
       "\n",
       "    .dataframe thead th {\n",
       "        text-align: right;\n",
       "    }\n",
       "</style>\n",
       "<table border=\"1\" class=\"dataframe\">\n",
       "  <thead>\n",
       "    <tr style=\"text-align: right;\">\n",
       "      <th></th>\n",
       "      <th>県</th>\n",
       "      <th>エリア</th>\n",
       "      <th>セット面の数</th>\n",
       "      <th>ブログ投稿数</th>\n",
       "      <th>口コミ数</th>\n",
       "      <th>スタッフ数</th>\n",
       "      <th>クーポン数</th>\n",
       "      <th>メニュー数</th>\n",
       "      <th>スタイル数</th>\n",
       "      <th>駅徒歩</th>\n",
       "      <th>コメントへの返信率</th>\n",
       "      <th>イルミナメニュー化の有無</th>\n",
       "    </tr>\n",
       "  </thead>\n",
       "  <tbody>\n",
       "    <tr>\n",
       "      <th>0</th>\n",
       "      <td>島根</td>\n",
       "      <td>松江</td>\n",
       "      <td>18</td>\n",
       "      <td>237</td>\n",
       "      <td>179</td>\n",
       "      <td>7</td>\n",
       "      <td>24</td>\n",
       "      <td>41</td>\n",
       "      <td>48</td>\n",
       "      <td>5.0</td>\n",
       "      <td>0.983</td>\n",
       "      <td>0</td>\n",
       "    </tr>\n",
       "    <tr>\n",
       "      <th>1</th>\n",
       "      <td>島根</td>\n",
       "      <td>松江</td>\n",
       "      <td>10</td>\n",
       "      <td>15</td>\n",
       "      <td>161</td>\n",
       "      <td>8</td>\n",
       "      <td>34</td>\n",
       "      <td>42</td>\n",
       "      <td>5</td>\n",
       "      <td>NaN</td>\n",
       "      <td>0.130</td>\n",
       "      <td>0</td>\n",
       "    </tr>\n",
       "    <tr>\n",
       "      <th>2</th>\n",
       "      <td>島根</td>\n",
       "      <td>松江</td>\n",
       "      <td>10</td>\n",
       "      <td>97</td>\n",
       "      <td>209</td>\n",
       "      <td>5</td>\n",
       "      <td>15</td>\n",
       "      <td>24</td>\n",
       "      <td>23</td>\n",
       "      <td>NaN</td>\n",
       "      <td>0.981</td>\n",
       "      <td>0</td>\n",
       "    </tr>\n",
       "    <tr>\n",
       "      <th>3</th>\n",
       "      <td>島根</td>\n",
       "      <td>松江</td>\n",
       "      <td>4</td>\n",
       "      <td>0</td>\n",
       "      <td>63</td>\n",
       "      <td>3</td>\n",
       "      <td>29</td>\n",
       "      <td>37</td>\n",
       "      <td>0</td>\n",
       "      <td>NaN</td>\n",
       "      <td>0.000</td>\n",
       "      <td>0</td>\n",
       "    </tr>\n",
       "    <tr>\n",
       "      <th>4</th>\n",
       "      <td>島根</td>\n",
       "      <td>松江</td>\n",
       "      <td>8</td>\n",
       "      <td>104</td>\n",
       "      <td>340</td>\n",
       "      <td>8</td>\n",
       "      <td>30</td>\n",
       "      <td>26</td>\n",
       "      <td>44</td>\n",
       "      <td>NaN</td>\n",
       "      <td>0.767</td>\n",
       "      <td>0</td>\n",
       "    </tr>\n",
       "    <tr>\n",
       "      <th>...</th>\n",
       "      <td>...</td>\n",
       "      <td>...</td>\n",
       "      <td>...</td>\n",
       "      <td>...</td>\n",
       "      <td>...</td>\n",
       "      <td>...</td>\n",
       "      <td>...</td>\n",
       "      <td>...</td>\n",
       "      <td>...</td>\n",
       "      <td>...</td>\n",
       "      <td>...</td>\n",
       "      <td>...</td>\n",
       "    </tr>\n",
       "    <tr>\n",
       "      <th>4074</th>\n",
       "      <td>福山・尾道</td>\n",
       "      <td>福山駅前・三吉周辺</td>\n",
       "      <td>1</td>\n",
       "      <td>0</td>\n",
       "      <td>50</td>\n",
       "      <td>1</td>\n",
       "      <td>0</td>\n",
       "      <td>16</td>\n",
       "      <td>0</td>\n",
       "      <td>NaN</td>\n",
       "      <td>0.000</td>\n",
       "      <td>0</td>\n",
       "    </tr>\n",
       "    <tr>\n",
       "      <th>4075</th>\n",
       "      <td>福山・尾道</td>\n",
       "      <td>福山駅前・三吉周辺</td>\n",
       "      <td>2</td>\n",
       "      <td>0</td>\n",
       "      <td>33</td>\n",
       "      <td>2</td>\n",
       "      <td>0</td>\n",
       "      <td>23</td>\n",
       "      <td>0</td>\n",
       "      <td>NaN</td>\n",
       "      <td>0.970</td>\n",
       "      <td>0</td>\n",
       "    </tr>\n",
       "    <tr>\n",
       "      <th>4076</th>\n",
       "      <td>福山・尾道</td>\n",
       "      <td>福山駅前・三吉周辺</td>\n",
       "      <td>4</td>\n",
       "      <td>0</td>\n",
       "      <td>3</td>\n",
       "      <td>1</td>\n",
       "      <td>0</td>\n",
       "      <td>43</td>\n",
       "      <td>0</td>\n",
       "      <td>NaN</td>\n",
       "      <td>1.000</td>\n",
       "      <td>0</td>\n",
       "    </tr>\n",
       "    <tr>\n",
       "      <th>4077</th>\n",
       "      <td>福山・尾道</td>\n",
       "      <td>福山駅前・三吉周辺</td>\n",
       "      <td>1</td>\n",
       "      <td>0</td>\n",
       "      <td>43</td>\n",
       "      <td>1</td>\n",
       "      <td>0</td>\n",
       "      <td>12</td>\n",
       "      <td>0</td>\n",
       "      <td>NaN</td>\n",
       "      <td>0.721</td>\n",
       "      <td>0</td>\n",
       "    </tr>\n",
       "    <tr>\n",
       "      <th>4078</th>\n",
       "      <td>福山・尾道</td>\n",
       "      <td>福山駅前・三吉周辺</td>\n",
       "      <td>2</td>\n",
       "      <td>0</td>\n",
       "      <td>12</td>\n",
       "      <td>1</td>\n",
       "      <td>0</td>\n",
       "      <td>10</td>\n",
       "      <td>0</td>\n",
       "      <td>15.0</td>\n",
       "      <td>1.000</td>\n",
       "      <td>0</td>\n",
       "    </tr>\n",
       "  </tbody>\n",
       "</table>\n",
       "<p>4079 rows × 12 columns</p>\n",
       "</div>"
      ],
      "text/plain": [
       "          県        エリア  セット面の数  ブログ投稿数  口コミ数  スタッフ数  クーポン数  メニュー数  スタイル数  \\\n",
       "0        島根         松江      18     237   179      7     24     41     48   \n",
       "1        島根         松江      10      15   161      8     34     42      5   \n",
       "2        島根         松江      10      97   209      5     15     24     23   \n",
       "3        島根         松江       4       0    63      3     29     37      0   \n",
       "4        島根         松江       8     104   340      8     30     26     44   \n",
       "...     ...        ...     ...     ...   ...    ...    ...    ...    ...   \n",
       "4074  福山・尾道  福山駅前・三吉周辺       1       0    50      1      0     16      0   \n",
       "4075  福山・尾道  福山駅前・三吉周辺       2       0    33      2      0     23      0   \n",
       "4076  福山・尾道  福山駅前・三吉周辺       4       0     3      1      0     43      0   \n",
       "4077  福山・尾道  福山駅前・三吉周辺       1       0    43      1      0     12      0   \n",
       "4078  福山・尾道  福山駅前・三吉周辺       2       0    12      1      0     10      0   \n",
       "\n",
       "       駅徒歩  コメントへの返信率  イルミナメニュー化の有無  \n",
       "0      5.0      0.983             0  \n",
       "1      NaN      0.130             0  \n",
       "2      NaN      0.981             0  \n",
       "3      NaN      0.000             0  \n",
       "4      NaN      0.767             0  \n",
       "...    ...        ...           ...  \n",
       "4074   NaN      0.000             0  \n",
       "4075   NaN      0.970             0  \n",
       "4076   NaN      1.000             0  \n",
       "4077   NaN      0.721             0  \n",
       "4078  15.0      1.000             0  \n",
       "\n",
       "[4079 rows x 12 columns]"
      ]
     },
     "metadata": {},
     "output_type": "display_data"
    }
   ],
   "source": [
    "_df = df.copy()\n",
    "_df=_df[['県', 'エリア', 'セット面の数', 'ブログ投稿数', '口コミ数', 'スタッフ数', 'クーポン数',\n",
    "       'メニュー数', 'スタイル数', '駅徒歩', 'コメントへの返信率', prediction_column]]\n",
    "# _df=_df[_df[prediction_column]!=0.0].reset_index(drop=True)\n",
    "display(_df)"
   ]
  },
  {
   "cell_type": "code",
   "execution_count": 17,
   "id": "938d29a0",
   "metadata": {},
   "outputs": [],
   "source": [
    "_df_X = _df.drop(prediction_column, axis=1).reset_index(drop=True)\n",
    "_df_y = _df[prediction_column].reset_index(drop=True)\n",
    "_df_X['県'] = _df_X['県'].astype('category')\n",
    "_df_X['エリア'] = _df_X['エリア'].astype('category')"
   ]
  },
  {
   "cell_type": "code",
   "execution_count": 18,
   "id": "e8f9cb42",
   "metadata": {},
   "outputs": [],
   "source": [
    "params={\n",
    "    \"n_estimators\": 10000,\n",
    "    \"learning_rate\":0.1,\n",
    "    \"random_seed\":0,\n",
    "    \"num_leaves\":50,\n",
    "    \"max_depth\":60,\n",
    "    \"n_jobs\": -1,\n",
    "    \"categorical_feature\":['県', 'エリア'],\n",
    "    'objective': 'binary',\n",
    "}"
   ]
  },
  {
   "cell_type": "code",
   "execution_count": 34,
   "id": "4e46afa4",
   "metadata": {
    "scrolled": true
   },
   "outputs": [
    {
     "name": "stderr",
     "output_type": "stream",
     "text": [
      "1it [00:00,  4.56it/s]"
     ]
    },
    {
     "name": "stdout",
     "output_type": "stream",
     "text": [
      "Training until validation scores don't improve for 10 rounds\n",
      "Early stopping, best iteration is:\n",
      "[16]\tvalid_0's binary_logloss: 0.332548\n"
     ]
    },
    {
     "name": "stderr",
     "output_type": "stream",
     "text": [
      "2it [00:00,  5.77it/s]"
     ]
    },
    {
     "name": "stdout",
     "output_type": "stream",
     "text": [
      "Training until validation scores don't improve for 10 rounds\n",
      "Early stopping, best iteration is:\n",
      "[15]\tvalid_0's binary_logloss: 0.330085\n",
      "Training until validation scores don't improve for 10 rounds\n",
      "Early stopping, best iteration is:\n",
      "[20]\tvalid_0's binary_logloss: 0.334095\n"
     ]
    },
    {
     "name": "stderr",
     "output_type": "stream",
     "text": [
      "5it [00:00,  8.74it/s]"
     ]
    },
    {
     "name": "stdout",
     "output_type": "stream",
     "text": [
      "Training until validation scores don't improve for 10 rounds\n",
      "Early stopping, best iteration is:\n",
      "[12]\tvalid_0's binary_logloss: 0.345719\n",
      "Training until validation scores don't improve for 10 rounds\n",
      "Early stopping, best iteration is:\n",
      "[11]\tvalid_0's binary_logloss: 0.348399\n"
     ]
    },
    {
     "name": "stderr",
     "output_type": "stream",
     "text": [
      "\n"
     ]
    }
   ],
   "source": [
    "from tqdm import tqdm\n",
    "from lightgbm.callback import early_stopping\n",
    "from sklearn.metrics import mean_squared_error\n",
    "from sklearn.model_selection import train_test_split, StratifiedKFold, GridSearchCV, KFold\n",
    "from lightgbm import LGBMClassifier\n",
    "import lightgbm as lgb\n",
    "from sklearn.metrics import precision_score, f1_score, recall_score\n",
    "SKF = StratifiedKFold(n_splits=5, shuffle=True, random_state=0)\n",
    "\n",
    "df_y_preds = pd.DataFrame()\n",
    "df_y_observes = pd.DataFrame()\n",
    "models = []\n",
    "f1_scores = []\n",
    "precision_scores = []\n",
    "recall_scores = []\n",
    "\n",
    "for train_index, valid_index in tqdm(SKF.split(X=_df_X, y=_df_y)):\n",
    "    X_train = _df_X.loc[train_index, :]\n",
    "    y_train = _df_y[train_index]\n",
    "    X_valid = _df_X.loc[valid_index, :]\n",
    "    y_valid = _df_y[valid_index]\n",
    "    \n",
    "    model = LGBMClassifier(**params)\n",
    "\n",
    "    \n",
    "    model.fit(X_train, y_train, \n",
    "         eval_metric='binary_logloss',  # early_stoppingの評価指標(学習用の'metric'パラメータにも同じ指標が自動入力される)\n",
    "         eval_set=[(X_valid, y_valid)],\n",
    "         callbacks=[lgb.early_stopping(stopping_rounds=10)]\n",
    "         )\n",
    "    \n",
    "    y_pred = model.predict(X_valid)\n",
    "    \n",
    "    df_y_preds = pd.concat([df_y_preds, pd.DataFrame(y_pred)])\n",
    "    df_y_observes = pd.concat([df_y_observes, y_valid])\n",
    "\n",
    "    # 適合率とF1スコアの計算\n",
    "    recall= recall_score(y_valid, y_pred)\n",
    "    precision = precision_score(y_valid, y_pred)\n",
    "    f1 = f1_score(y_pred,y_valid)\n",
    "\n",
    "    models.append(model)\n",
    "    precision_scores.append(precision)\n",
    "    recall_scores.append(recall)\n",
    "    f1_scores.append(f1)\n",
    "    "
   ]
  },
  {
   "cell_type": "code",
   "execution_count": 35,
   "id": "61c77d14",
   "metadata": {},
   "outputs": [
    {
     "data": {
      "text/html": [
       "<div>\n",
       "<style scoped>\n",
       "    .dataframe tbody tr th:only-of-type {\n",
       "        vertical-align: middle;\n",
       "    }\n",
       "\n",
       "    .dataframe tbody tr th {\n",
       "        vertical-align: top;\n",
       "    }\n",
       "\n",
       "    .dataframe thead tr th {\n",
       "        text-align: left;\n",
       "    }\n",
       "</style>\n",
       "<table border=\"1\" class=\"dataframe\">\n",
       "  <thead>\n",
       "    <tr>\n",
       "      <th></th>\n",
       "      <th>f1_score</th>\n",
       "      <th>presiodion</th>\n",
       "      <th>recall</th>\n",
       "    </tr>\n",
       "  </thead>\n",
       "  <tbody>\n",
       "    <tr>\n",
       "      <th>0</th>\n",
       "      <td>0.217054</td>\n",
       "      <td>0.636364</td>\n",
       "      <td>0.130841</td>\n",
       "    </tr>\n",
       "    <tr>\n",
       "      <th>1</th>\n",
       "      <td>0.240000</td>\n",
       "      <td>0.833333</td>\n",
       "      <td>0.140187</td>\n",
       "    </tr>\n",
       "    <tr>\n",
       "      <th>2</th>\n",
       "      <td>0.238806</td>\n",
       "      <td>0.592593</td>\n",
       "      <td>0.149533</td>\n",
       "    </tr>\n",
       "    <tr>\n",
       "      <th>3</th>\n",
       "      <td>0.162602</td>\n",
       "      <td>0.625000</td>\n",
       "      <td>0.093458</td>\n",
       "    </tr>\n",
       "    <tr>\n",
       "      <th>4</th>\n",
       "      <td>0.120690</td>\n",
       "      <td>0.700000</td>\n",
       "      <td>0.066038</td>\n",
       "    </tr>\n",
       "  </tbody>\n",
       "</table>\n",
       "</div>"
      ],
      "text/plain": [
       "   f1_score presiodion    recall\n",
       "0  0.217054   0.636364  0.130841\n",
       "1  0.240000   0.833333  0.140187\n",
       "2  0.238806   0.592593  0.149533\n",
       "3  0.162602   0.625000  0.093458\n",
       "4  0.120690   0.700000  0.066038"
      ]
     },
     "metadata": {},
     "output_type": "display_data"
    }
   ],
   "source": [
    "# 結果をまとめておく\n",
    "import datetime\n",
    "\n",
    "df_result = pd.DataFrame(columns=[[\"f1_score\", \"presiodion\", \"recall\"]])\n",
    "\n",
    "df_result[\"f1_score\"] = f1_scores\n",
    "df_result[\"presiodion\"] = precision_scores\n",
    "df_result[\"recall\"] = recall_scores\n",
    "\n",
    "\n",
    "# 結果をcsvファイルに書き出す\n",
    "# df_result.to_csv(f\"wcv_result_targetVariable:{prediction_column}_{datetime.datetime.today()}.csv\", index=False)\n",
    "# データフレームで結果の表示\n",
    "df_result\n",
    "display(df_result)"
   ]
  },
  {
   "cell_type": "code",
   "execution_count": 37,
   "id": "2f900f10",
   "metadata": {},
   "outputs": [
    {
     "name": "stdout",
     "output_type": "stream",
     "text": [
      "0.0 1.0 1.0\n"
     ]
    },
    {
     "data": {
      "image/png": "[encoded data removed]",
      "text/plain": [
       "<Figure size 800x800 with 1 Axes>"
      ]
     },
     "metadata": {},
     "output_type": "display_data"
    },
    {
     "name": "stdout",
     "output_type": "stream",
     "text": [
      "決定係数：-0.084\n",
      "RMSE：0.35\n"
     ]
    }
   ],
   "source": [
    "from matplotlib import pyplot as plt\n",
    "from sklearn.metrics import r2_score\n",
    "from sklearn.metrics import mean_squared_error\n",
    "\n",
    "# グラフのラベルを定義\n",
    "graph_title = \"\"\n",
    "\n",
    "# yyplot 作成関数\n",
    "def yyplot(y_obs, y_pred):\n",
    "    yvalues = np.concatenate([y_obs.flatten(), y_pred.flatten()])\n",
    "    ymin, ymax, yrange = np.amin(yvalues), np.amax(yvalues), np.ptp(yvalues)\n",
    "    print(ymin, ymax, yrange)\n",
    "    fig = plt.figure(figsize=(8, 8))\n",
    "    plt.scatter(y_obs, y_pred)\n",
    "    plt.plot([ymin - yrange * 0.01, ymax + yrange * 0.01], [ymin - yrange * 0.01, ymax + yrange * 0.01])\n",
    "    # plt.xlim(ymin - yrange * 0.01, ymax + yrange * 0.01)\n",
    "    # plt.ylim(ymin - yrange * 0.01, ymax + yrange * 0.01)\n",
    "    plt.xlabel('y_observed', fontsize=24)\n",
    "    plt.ylabel('y_predicted', fontsize=24)\n",
    "    plt.title(graph_title, fontsize=24)\n",
    "    plt.tick_params(labelsize=16)\n",
    "    plt.show()\n",
    "\n",
    "    return fig\n",
    "\n",
    "# yyplot の実行例\n",
    "np.random.seed(0)\n",
    "y_obs = np.random.normal(size=(1000, 1))\n",
    "y_pred = y_obs + np.random.normal(scale=0.3, size=(1000, 1))\n",
    "# dataframe→numpy配列にするために.valuesを実行\n",
    "fig = yyplot(df_y_observes.values, df_y_preds.values)\n",
    "\n",
    "# 決定係数の算出\n",
    "r2 = r2_score(df_y_observes.values, df_y_preds.values)\n",
    "print(\"決定係数：\" + '{:.3f}'.format(r2))\n",
    "\n",
    "# RMSEの算出\n",
    "mse = mean_squared_error(y_true=df_y_observes.values, y_pred=df_y_preds.values)\n",
    "print(\"RMSE：\" + '{:.2f}'.format(np.sqrt(mse)))"
   ]
  },
  {
   "cell_type": "code",
   "execution_count": 45,
   "id": "fbb02790",
   "metadata": {},
   "outputs": [
    {
     "data": {
      "text/plain": [
       "2374    0\n",
       "Name: イルミナメニュー化の有無, dtype: int64"
      ]
     },
     "metadata": {},
     "output_type": "display_data"
    }
   ],
   "source": [
    "import random\n",
    "tmp_index = random.randint(1, 3900)\n",
    "\n",
    "tmp_df_X = _df.iloc[tmp_index:tmp_index+1, :-1]\n",
    "tmp_df_y = _df.iloc[tmp_index:tmp_index+1, -1]\n",
    "display(tmp_df_y)\n",
    "tmp_df_X['県'] = tmp_df_X['県'].astype('category')\n",
    "tmp_df_X['エリア'] = tmp_df_X['エリア'].astype('category')"
   ]
  },
  {
   "cell_type": "code",
   "execution_count": 46,
   "id": "57e5a108",
   "metadata": {},
   "outputs": [
    {
     "name": "stdout",
     "output_type": "stream",
     "text": [
      "[array([0]), array([0]), array([0]), array([0]), array([0])]\n",
      "0\n"
     ]
    }
   ],
   "source": [
    "_scores=[]\n",
    "for model in models:\n",
    "    _scores.append(model.predict(tmp_df_X))\n",
    "print(_scores)\n",
    "_score_mode = int(stats.mode(_scores).mode)\n",
    "print(_score_mode)"
   ]
  },
  {
   "cell_type": "code",
   "execution_count": 47,
   "id": "42b6316e-ce92-4afc-a3b9-f8fd73e12a56",
   "metadata": {},
   "outputs": [
    {
     "name": "stdout",
     "output_type": "stream",
     "text": [
      "0 0.0\n"
     ]
    }
   ],
   "source": [
    "print((_score_mode), float(tmp_df_y))"
   ]
  },
  {
   "cell_type": "code",
   "execution_count": 48,
   "id": "84566d98-a4a6-4fa1-8c1a-d0ad62a556dc",
   "metadata": {},
   "outputs": [
    {
     "name": "stdout",
     "output_type": "stream",
     "text": [
      "[array([0.08809655]), array([0.19281339]), array([0.10538755]), array([0.07944203]), array([0.07201154])]\n"
     ]
    }
   ],
   "source": [
    "_scores=[]\n",
    "for model in models:\n",
    "    _scores.append(model.predict_proba(tmp_df_X)[:, 1])\n",
    "\n",
    "print(_scores)\n",
    "\n",
    "if _score_mode == 1:\n",
    "    _score=np.mean(_scores)\n",
    "else:\n",
    "    _score=np.max(_scores)"
   ]
  },
  {
   "cell_type": "code",
   "execution_count": 49,
   "id": "31596b94",
   "metadata": {},
   "outputs": [
    {
     "name": "stdout",
     "output_type": "stream",
     "text": [
      "0.19 0.0\n"
     ]
    }
   ],
   "source": [
    "print(round(_score,2), float(tmp_df_y))"
   ]
  },
  {
   "cell_type": "code",
   "execution_count": 51,
   "id": "5a4eae08-f997-41fc-abb7-98b463437dee",
   "metadata": {},
   "outputs": [],
   "source": [
    "import pickle\n",
    "\n",
    "with open(f'/Users/masudaniwabinari/Desktop/HPB_analysis_dashboard/model/brand_classification/{prediction_column}_models.pkl', mode='wb') as p:\n",
    "    pickle.dump(models, p)"
   ]
  },
  {
   "attachments": {},
   "cell_type": "markdown",
   "id": "8d048261-a9c0-4225-a694-423282c6fc8b",
   "metadata": {},
   "source": [
    "# 'Aujuaメニュー化の有無'モデル作成"
   ]
  },
  {
   "cell_type": "code",
   "execution_count": 52,
   "id": "cc33f517-7b09-4bb6-bc02-0adfa4d216c2",
   "metadata": {},
   "outputs": [
    {
     "data": {
      "text/plain": [
       "Index(['県', 'エリア', 'サロン名', 'セット面の数', 'ブログ投稿数', '口コミ数', 'スタッフ数', 'クーポン数',\n",
       "       'メニュー数', 'スタイル数', 'コメントへの返信率', '駅徒歩', 'イルミナメニュー化の有無', 'Aujuaメニュー化の有無',\n",
       "       'addicthyメニュー化の有無', 'inoaメニュー化の有無'],\n",
       "      dtype='object')"
      ]
     },
     "execution_count": 52,
     "metadata": {},
     "output_type": "execute_result"
    }
   ],
   "source": [
    "df.columns"
   ]
  },
  {
   "cell_type": "code",
   "execution_count": 53,
   "id": "57230a62-a858-4b5c-9f39-ebfcd5648ee2",
   "metadata": {},
   "outputs": [],
   "source": [
    "prediction_column = 'Aujuaメニュー化の有無'"
   ]
  },
  {
   "cell_type": "code",
   "execution_count": 54,
   "id": "0ebf8c88-bc64-43cd-9704-13f90c62f2f4",
   "metadata": {},
   "outputs": [
    {
     "data": {
      "text/html": [
       "<div>\n",
       "<style scoped>\n",
       "    .dataframe tbody tr th:only-of-type {\n",
       "        vertical-align: middle;\n",
       "    }\n",
       "\n",
       "    .dataframe tbody tr th {\n",
       "        vertical-align: top;\n",
       "    }\n",
       "\n",
       "    .dataframe thead th {\n",
       "        text-align: right;\n",
       "    }\n",
       "</style>\n",
       "<table border=\"1\" class=\"dataframe\">\n",
       "  <thead>\n",
       "    <tr style=\"text-align: right;\">\n",
       "      <th></th>\n",
       "      <th>県</th>\n",
       "      <th>エリア</th>\n",
       "      <th>セット面の数</th>\n",
       "      <th>ブログ投稿数</th>\n",
       "      <th>口コミ数</th>\n",
       "      <th>スタッフ数</th>\n",
       "      <th>クーポン数</th>\n",
       "      <th>メニュー数</th>\n",
       "      <th>スタイル数</th>\n",
       "      <th>駅徒歩</th>\n",
       "      <th>コメントへの返信率</th>\n",
       "      <th>Aujuaメニュー化の有無</th>\n",
       "    </tr>\n",
       "  </thead>\n",
       "  <tbody>\n",
       "    <tr>\n",
       "      <th>0</th>\n",
       "      <td>島根</td>\n",
       "      <td>松江</td>\n",
       "      <td>18</td>\n",
       "      <td>237</td>\n",
       "      <td>179</td>\n",
       "      <td>7</td>\n",
       "      <td>24</td>\n",
       "      <td>41</td>\n",
       "      <td>48</td>\n",
       "      <td>5.0</td>\n",
       "      <td>0.983</td>\n",
       "      <td>0</td>\n",
       "    </tr>\n",
       "    <tr>\n",
       "      <th>1</th>\n",
       "      <td>島根</td>\n",
       "      <td>松江</td>\n",
       "      <td>10</td>\n",
       "      <td>15</td>\n",
       "      <td>161</td>\n",
       "      <td>8</td>\n",
       "      <td>34</td>\n",
       "      <td>42</td>\n",
       "      <td>5</td>\n",
       "      <td>NaN</td>\n",
       "      <td>0.130</td>\n",
       "      <td>0</td>\n",
       "    </tr>\n",
       "    <tr>\n",
       "      <th>2</th>\n",
       "      <td>島根</td>\n",
       "      <td>松江</td>\n",
       "      <td>10</td>\n",
       "      <td>97</td>\n",
       "      <td>209</td>\n",
       "      <td>5</td>\n",
       "      <td>15</td>\n",
       "      <td>24</td>\n",
       "      <td>23</td>\n",
       "      <td>NaN</td>\n",
       "      <td>0.981</td>\n",
       "      <td>0</td>\n",
       "    </tr>\n",
       "    <tr>\n",
       "      <th>3</th>\n",
       "      <td>島根</td>\n",
       "      <td>松江</td>\n",
       "      <td>4</td>\n",
       "      <td>0</td>\n",
       "      <td>63</td>\n",
       "      <td>3</td>\n",
       "      <td>29</td>\n",
       "      <td>37</td>\n",
       "      <td>0</td>\n",
       "      <td>NaN</td>\n",
       "      <td>0.000</td>\n",
       "      <td>0</td>\n",
       "    </tr>\n",
       "    <tr>\n",
       "      <th>4</th>\n",
       "      <td>島根</td>\n",
       "      <td>松江</td>\n",
       "      <td>8</td>\n",
       "      <td>104</td>\n",
       "      <td>340</td>\n",
       "      <td>8</td>\n",
       "      <td>30</td>\n",
       "      <td>26</td>\n",
       "      <td>44</td>\n",
       "      <td>NaN</td>\n",
       "      <td>0.767</td>\n",
       "      <td>1</td>\n",
       "    </tr>\n",
       "    <tr>\n",
       "      <th>...</th>\n",
       "      <td>...</td>\n",
       "      <td>...</td>\n",
       "      <td>...</td>\n",
       "      <td>...</td>\n",
       "      <td>...</td>\n",
       "      <td>...</td>\n",
       "      <td>...</td>\n",
       "      <td>...</td>\n",
       "      <td>...</td>\n",
       "      <td>...</td>\n",
       "      <td>...</td>\n",
       "      <td>...</td>\n",
       "    </tr>\n",
       "    <tr>\n",
       "      <th>4074</th>\n",
       "      <td>福山・尾道</td>\n",
       "      <td>福山駅前・三吉周辺</td>\n",
       "      <td>1</td>\n",
       "      <td>0</td>\n",
       "      <td>50</td>\n",
       "      <td>1</td>\n",
       "      <td>0</td>\n",
       "      <td>16</td>\n",
       "      <td>0</td>\n",
       "      <td>NaN</td>\n",
       "      <td>0.000</td>\n",
       "      <td>0</td>\n",
       "    </tr>\n",
       "    <tr>\n",
       "      <th>4075</th>\n",
       "      <td>福山・尾道</td>\n",
       "      <td>福山駅前・三吉周辺</td>\n",
       "      <td>2</td>\n",
       "      <td>0</td>\n",
       "      <td>33</td>\n",
       "      <td>2</td>\n",
       "      <td>0</td>\n",
       "      <td>23</td>\n",
       "      <td>0</td>\n",
       "      <td>NaN</td>\n",
       "      <td>0.970</td>\n",
       "      <td>0</td>\n",
       "    </tr>\n",
       "    <tr>\n",
       "      <th>4076</th>\n",
       "      <td>福山・尾道</td>\n",
       "      <td>福山駅前・三吉周辺</td>\n",
       "      <td>4</td>\n",
       "      <td>0</td>\n",
       "      <td>3</td>\n",
       "      <td>1</td>\n",
       "      <td>0</td>\n",
       "      <td>43</td>\n",
       "      <td>0</td>\n",
       "      <td>NaN</td>\n",
       "      <td>1.000</td>\n",
       "      <td>0</td>\n",
       "    </tr>\n",
       "    <tr>\n",
       "      <th>4077</th>\n",
       "      <td>福山・尾道</td>\n",
       "      <td>福山駅前・三吉周辺</td>\n",
       "      <td>1</td>\n",
       "      <td>0</td>\n",
       "      <td>43</td>\n",
       "      <td>1</td>\n",
       "      <td>0</td>\n",
       "      <td>12</td>\n",
       "      <td>0</td>\n",
       "      <td>NaN</td>\n",
       "      <td>0.721</td>\n",
       "      <td>0</td>\n",
       "    </tr>\n",
       "    <tr>\n",
       "      <th>4078</th>\n",
       "      <td>福山・尾道</td>\n",
       "      <td>福山駅前・三吉周辺</td>\n",
       "      <td>2</td>\n",
       "      <td>0</td>\n",
       "      <td>12</td>\n",
       "      <td>1</td>\n",
       "      <td>0</td>\n",
       "      <td>10</td>\n",
       "      <td>0</td>\n",
       "      <td>15.0</td>\n",
       "      <td>1.000</td>\n",
       "      <td>0</td>\n",
       "    </tr>\n",
       "  </tbody>\n",
       "</table>\n",
       "<p>4079 rows × 12 columns</p>\n",
       "</div>"
      ],
      "text/plain": [
       "          県        エリア  セット面の数  ブログ投稿数  口コミ数  スタッフ数  クーポン数  メニュー数  スタイル数  \\\n",
       "0        島根         松江      18     237   179      7     24     41     48   \n",
       "1        島根         松江      10      15   161      8     34     42      5   \n",
       "2        島根         松江      10      97   209      5     15     24     23   \n",
       "3        島根         松江       4       0    63      3     29     37      0   \n",
       "4        島根         松江       8     104   340      8     30     26     44   \n",
       "...     ...        ...     ...     ...   ...    ...    ...    ...    ...   \n",
       "4074  福山・尾道  福山駅前・三吉周辺       1       0    50      1      0     16      0   \n",
       "4075  福山・尾道  福山駅前・三吉周辺       2       0    33      2      0     23      0   \n",
       "4076  福山・尾道  福山駅前・三吉周辺       4       0     3      1      0     43      0   \n",
       "4077  福山・尾道  福山駅前・三吉周辺       1       0    43      1      0     12      0   \n",
       "4078  福山・尾道  福山駅前・三吉周辺       2       0    12      1      0     10      0   \n",
       "\n",
       "       駅徒歩  コメントへの返信率  Aujuaメニュー化の有無  \n",
       "0      5.0      0.983              0  \n",
       "1      NaN      0.130              0  \n",
       "2      NaN      0.981              0  \n",
       "3      NaN      0.000              0  \n",
       "4      NaN      0.767              1  \n",
       "...    ...        ...            ...  \n",
       "4074   NaN      0.000              0  \n",
       "4075   NaN      0.970              0  \n",
       "4076   NaN      1.000              0  \n",
       "4077   NaN      0.721              0  \n",
       "4078  15.0      1.000              0  \n",
       "\n",
       "[4079 rows x 12 columns]"
      ]
     },
     "metadata": {},
     "output_type": "display_data"
    }
   ],
   "source": [
    "_df = df.copy()\n",
    "_df=_df[['県', 'エリア', 'セット面の数', 'ブログ投稿数', '口コミ数', 'スタッフ数', 'クーポン数',\n",
    "       'メニュー数', 'スタイル数', '駅徒歩', 'コメントへの返信率', prediction_column]]\n",
    "# _df=_df[_df[prediction_column]!=0.0].reset_index(drop=True)\n",
    "display(_df)"
   ]
  },
  {
   "cell_type": "code",
   "execution_count": 55,
   "id": "c945bf60-1b8f-48b7-a0ca-0591dcd816b3",
   "metadata": {},
   "outputs": [],
   "source": [
    "_df_X = _df.drop(prediction_column, axis=1).reset_index(drop=True)\n",
    "_df_y = _df[prediction_column].reset_index(drop=True)\n",
    "_df_X['県'] = _df_X['県'].astype('category')\n",
    "_df_X['エリア'] = _df_X['エリア'].astype('category')"
   ]
  },
  {
   "cell_type": "code",
   "execution_count": 56,
   "id": "a856c220-cd6f-41b1-a376-68f9f0668322",
   "metadata": {},
   "outputs": [],
   "source": [
    "params={\n",
    "    \"n_estimators\": 10000,\n",
    "    \"learning_rate\":0.1,\n",
    "    \"random_seed\":0,\n",
    "    \"num_leaves\":100,\n",
    "    \"max_depth\":60,\n",
    "    \"n_jobs\": -1,\n",
    "    \"categorical_feature\":['県', 'エリア'],\n",
    "    'objective': 'binary',\n",
    "}"
   ]
  },
  {
   "cell_type": "code",
   "execution_count": 57,
   "id": "f377df01-f272-42d8-86fb-3ba6f260f937",
   "metadata": {
    "scrolled": true
   },
   "outputs": [
    {
     "name": "stderr",
     "output_type": "stream",
     "text": [
      "0it [00:00, ?it/s]"
     ]
    },
    {
     "name": "stdout",
     "output_type": "stream",
     "text": [
      "Training until validation scores don't improve for 10 rounds\n"
     ]
    },
    {
     "name": "stderr",
     "output_type": "stream",
     "text": [
      "3it [00:00,  9.45it/s]"
     ]
    },
    {
     "name": "stdout",
     "output_type": "stream",
     "text": [
      "Early stopping, best iteration is:\n",
      "[17]\tvalid_0's binary_logloss: 0.196162\n",
      "Training until validation scores don't improve for 10 rounds\n",
      "Early stopping, best iteration is:\n",
      "[12]\tvalid_0's binary_logloss: 0.193234\n",
      "Training until validation scores don't improve for 10 rounds\n",
      "Early stopping, best iteration is:\n",
      "[12]\tvalid_0's binary_logloss: 0.199906\n",
      "Training until validation scores don't improve for 10 rounds\n",
      "Early stopping, best iteration is:\n",
      "[22]\tvalid_0's binary_logloss: 0.178461\n"
     ]
    },
    {
     "name": "stderr",
     "output_type": "stream",
     "text": [
      "5it [00:00, 10.01it/s]"
     ]
    },
    {
     "name": "stdout",
     "output_type": "stream",
     "text": [
      "Training until validation scores don't improve for 10 rounds\n",
      "Early stopping, best iteration is:\n",
      "[14]\tvalid_0's binary_logloss: 0.174654\n"
     ]
    },
    {
     "name": "stderr",
     "output_type": "stream",
     "text": [
      "\n"
     ]
    }
   ],
   "source": [
    "from tqdm import tqdm\n",
    "from lightgbm.callback import early_stopping\n",
    "from sklearn.metrics import mean_squared_error\n",
    "from sklearn.model_selection import train_test_split, StratifiedKFold, GridSearchCV, KFold\n",
    "from lightgbm import LGBMClassifier\n",
    "import lightgbm as lgb\n",
    "from sklearn.metrics import precision_score, f1_score, recall_score\n",
    "SKF = StratifiedKFold(n_splits=5, shuffle=True, random_state=0)\n",
    "\n",
    "df_y_preds = pd.DataFrame()\n",
    "df_y_observes = pd.DataFrame()\n",
    "models = []\n",
    "f1_scores = []\n",
    "precision_scores = []\n",
    "recall_scores = []\n",
    "\n",
    "for train_index, valid_index in tqdm(SKF.split(X=_df_X, y=_df_y)):\n",
    "    X_train = _df_X.loc[train_index, :]\n",
    "    y_train = _df_y[train_index]\n",
    "    X_valid = _df_X.loc[valid_index, :]\n",
    "    y_valid = _df_y[valid_index]\n",
    "    \n",
    "    model = LGBMClassifier(**params)\n",
    "\n",
    "    \n",
    "    model.fit(X_train, y_train, \n",
    "         eval_metric='binary_logloss',  # early_stoppingの評価指標(学習用の'metric'パラメータにも同じ指標が自動入力される)\n",
    "         eval_set=[(X_valid, y_valid)],\n",
    "         callbacks=[lgb.early_stopping(stopping_rounds=10)]\n",
    "         )\n",
    "    \n",
    "    y_pred = model.predict(X_valid)\n",
    "    \n",
    "    df_y_preds = pd.concat([df_y_preds, pd.DataFrame(y_pred)])\n",
    "    df_y_observes = pd.concat([df_y_observes, y_valid])\n",
    "\n",
    "    # 適合率とF1スコアの計算\n",
    "    recall= recall_score(y_valid, y_pred)\n",
    "    precision = precision_score(y_valid, y_pred)\n",
    "    f1 = f1_score(y_pred,y_valid)\n",
    "\n",
    "    models.append(model)\n",
    "    precision_scores.append(precision)\n",
    "    recall_scores.append(recall)\n",
    "    f1_scores.append(f1)\n",
    "    "
   ]
  },
  {
   "cell_type": "code",
   "execution_count": 58,
   "id": "24f8ae4e-6dc4-4241-8494-709d01364c9e",
   "metadata": {},
   "outputs": [
    {
     "data": {
      "text/html": [
       "<div>\n",
       "<style scoped>\n",
       "    .dataframe tbody tr th:only-of-type {\n",
       "        vertical-align: middle;\n",
       "    }\n",
       "\n",
       "    .dataframe tbody tr th {\n",
       "        vertical-align: top;\n",
       "    }\n",
       "\n",
       "    .dataframe thead tr th {\n",
       "        text-align: left;\n",
       "    }\n",
       "</style>\n",
       "<table border=\"1\" class=\"dataframe\">\n",
       "  <thead>\n",
       "    <tr>\n",
       "      <th></th>\n",
       "      <th>f1_score</th>\n",
       "      <th>presiodion</th>\n",
       "      <th>recall</th>\n",
       "    </tr>\n",
       "  </thead>\n",
       "  <tbody>\n",
       "    <tr>\n",
       "      <th>0</th>\n",
       "      <td>0.113208</td>\n",
       "      <td>0.600000</td>\n",
       "      <td>0.062500</td>\n",
       "    </tr>\n",
       "    <tr>\n",
       "      <th>1</th>\n",
       "      <td>0.076923</td>\n",
       "      <td>0.500000</td>\n",
       "      <td>0.041667</td>\n",
       "    </tr>\n",
       "    <tr>\n",
       "      <th>2</th>\n",
       "      <td>0.145455</td>\n",
       "      <td>0.666667</td>\n",
       "      <td>0.081633</td>\n",
       "    </tr>\n",
       "    <tr>\n",
       "      <th>3</th>\n",
       "      <td>0.111111</td>\n",
       "      <td>0.600000</td>\n",
       "      <td>0.061224</td>\n",
       "    </tr>\n",
       "    <tr>\n",
       "      <th>4</th>\n",
       "      <td>0.150943</td>\n",
       "      <td>0.800000</td>\n",
       "      <td>0.083333</td>\n",
       "    </tr>\n",
       "  </tbody>\n",
       "</table>\n",
       "</div>"
      ],
      "text/plain": [
       "   f1_score presiodion    recall\n",
       "0  0.113208   0.600000  0.062500\n",
       "1  0.076923   0.500000  0.041667\n",
       "2  0.145455   0.666667  0.081633\n",
       "3  0.111111   0.600000  0.061224\n",
       "4  0.150943   0.800000  0.083333"
      ]
     },
     "metadata": {},
     "output_type": "display_data"
    }
   ],
   "source": [
    "# 結果をまとめておく\n",
    "import datetime\n",
    "\n",
    "df_result = pd.DataFrame(columns=[[\"f1_score\", \"presiodion\", \"recall\"]])\n",
    "\n",
    "df_result[\"f1_score\"] = f1_scores\n",
    "df_result[\"presiodion\"] = precision_scores\n",
    "df_result[\"recall\"] = recall_scores\n",
    "\n",
    "\n",
    "# 結果をcsvファイルに書き出す\n",
    "# df_result.to_csv(f\"wcv_result_targetVariable:{prediction_column}_{datetime.datetime.today()}.csv\", index=False)\n",
    "# データフレームで結果の表示\n",
    "df_result\n",
    "display(df_result)"
   ]
  },
  {
   "cell_type": "code",
   "execution_count": 59,
   "id": "6b0f33ca-d43a-4dcd-ba03-c64196d086be",
   "metadata": {},
   "outputs": [
    {
     "name": "stdout",
     "output_type": "stream",
     "text": [
      "0.0 1.0 1.0\n"
     ]
    },
    {
     "data": {
      "image/png": "[encoded data removed]",
      "text/plain": [
       "<Figure size 800x800 with 1 Axes>"
      ]
     },
     "metadata": {},
     "output_type": "display_data"
    },
    {
     "name": "stdout",
     "output_type": "stream",
     "text": [
      "決定係数：-0.032\n",
      "RMSE：0.24\n"
     ]
    }
   ],
   "source": [
    "from matplotlib import pyplot as plt\n",
    "from sklearn.metrics import r2_score\n",
    "from sklearn.metrics import mean_squared_error\n",
    "\n",
    "# グラフのラベルを定義\n",
    "graph_title = \"\"\n",
    "\n",
    "# yyplot 作成関数\n",
    "def yyplot(y_obs, y_pred):\n",
    "    yvalues = np.concatenate([y_obs.flatten(), y_pred.flatten()])\n",
    "    ymin, ymax, yrange = np.amin(yvalues), np.amax(yvalues), np.ptp(yvalues)\n",
    "    print(ymin, ymax, yrange)\n",
    "    fig = plt.figure(figsize=(8, 8))\n",
    "    plt.scatter(y_obs, y_pred)\n",
    "    plt.plot([ymin - yrange * 0.01, ymax + yrange * 0.01], [ymin - yrange * 0.01, ymax + yrange * 0.01])\n",
    "    # plt.xlim(ymin - yrange * 0.01, ymax + yrange * 0.01)\n",
    "    # plt.ylim(ymin - yrange * 0.01, ymax + yrange * 0.01)\n",
    "    plt.xlabel('y_observed', fontsize=24)\n",
    "    plt.ylabel('y_predicted', fontsize=24)\n",
    "    plt.title(graph_title, fontsize=24)\n",
    "    plt.tick_params(labelsize=16)\n",
    "    plt.show()\n",
    "\n",
    "    return fig\n",
    "\n",
    "# yyplot の実行例\n",
    "np.random.seed(0)\n",
    "y_obs = np.random.normal(size=(1000, 1))\n",
    "y_pred = y_obs + np.random.normal(scale=0.3, size=(1000, 1))\n",
    "# dataframe→numpy配列にするために.valuesを実行\n",
    "fig = yyplot(df_y_observes.values, df_y_preds.values)\n",
    "\n",
    "# 決定係数の算出\n",
    "r2 = r2_score(df_y_observes.values, df_y_preds.values)\n",
    "print(\"決定係数：\" + '{:.3f}'.format(r2))\n",
    "\n",
    "# RMSEの算出\n",
    "mse = mean_squared_error(y_true=df_y_observes.values, y_pred=df_y_preds.values)\n",
    "print(\"RMSE：\" + '{:.2f}'.format(np.sqrt(mse)))"
   ]
  },
  {
   "cell_type": "code",
   "execution_count": 116,
   "id": "ef12c093-c34d-40a7-b49b-27fc93242b12",
   "metadata": {},
   "outputs": [
    {
     "data": {
      "text/plain": [
       "1962    1\n",
       "Name: Aujuaメニュー化の有無, dtype: int64"
      ]
     },
     "metadata": {},
     "output_type": "display_data"
    }
   ],
   "source": [
    "import random\n",
    "tmp_index = random.randint(1, 3900)\n",
    "\n",
    "tmp_df_X = _df.iloc[tmp_index:tmp_index+1, :-1]\n",
    "tmp_df_y = _df.iloc[tmp_index:tmp_index+1, -1]\n",
    "display(tmp_df_y)\n",
    "tmp_df_X['県'] = tmp_df_X['県'].astype('category')\n",
    "tmp_df_X['エリア'] = tmp_df_X['エリア'].astype('category')"
   ]
  },
  {
   "cell_type": "code",
   "execution_count": 117,
   "id": "b324f6f5-c87b-46c0-ad8b-70b30e89de7d",
   "metadata": {},
   "outputs": [
    {
     "name": "stdout",
     "output_type": "stream",
     "text": [
      "[array([0]), array([0]), array([0]), array([1]), array([0])]\n",
      "0\n"
     ]
    }
   ],
   "source": [
    "_scores=[]\n",
    "for model in models:\n",
    "    _scores.append(model.predict(tmp_df_X))\n",
    "print(_scores)\n",
    "_score_mode = int(stats.mode(_scores).mode)\n",
    "print(_score_mode)"
   ]
  },
  {
   "cell_type": "code",
   "execution_count": 118,
   "id": "39bcd4b1-ad5c-4f0a-9a59-8bf956e886c8",
   "metadata": {},
   "outputs": [
    {
     "name": "stdout",
     "output_type": "stream",
     "text": [
      "0 1.0\n"
     ]
    }
   ],
   "source": [
    "print((_score_mode), float(tmp_df_y))"
   ]
  },
  {
   "cell_type": "code",
   "execution_count": 119,
   "id": "2567f4b9-ada8-4218-b5dc-c9058797e4d6",
   "metadata": {},
   "outputs": [
    {
     "name": "stdout",
     "output_type": "stream",
     "text": [
      "[array([0.47650709]), array([0.07712854]), array([0.32662504]), array([0.59634559]), array([0.45078651])]\n"
     ]
    }
   ],
   "source": [
    "_scores=[]\n",
    "for model in models:\n",
    "    _scores.append(model.predict_proba(tmp_df_X)[:, 1])\n",
    "\n",
    "print(_scores)\n",
    "\n",
    "if _score_mode == 1:\n",
    "    _score=np.mean(_scores)\n",
    "else:\n",
    "    _score=np.max(_scores)"
   ]
  },
  {
   "cell_type": "code",
   "execution_count": 120,
   "id": "daeea39f-4be3-4a56-abb5-416ed06a29ee",
   "metadata": {},
   "outputs": [
    {
     "name": "stdout",
     "output_type": "stream",
     "text": [
      "0.6 1.0\n"
     ]
    }
   ],
   "source": [
    "print(round(_score,2), float(tmp_df_y))"
   ]
  },
  {
   "cell_type": "code",
   "execution_count": 121,
   "id": "68d1f37d-69a3-4a67-985b-597ae8b35540",
   "metadata": {},
   "outputs": [],
   "source": [
    "import pickle\n",
    "\n",
    "with open(f'/Users/masudaniwabinari/Desktop/HPB_analysis_dashboard/model/brand_classification/{prediction_column}_models.pkl', mode='wb') as p:\n",
    "    pickle.dump(models, p)"
   ]
  },
  {
   "cell_type": "code",
   "execution_count": null,
   "id": "c7a9c11b-3c1e-4cb0-bae1-e9895b053187",
   "metadata": {},
   "outputs": [],
   "source": []
  },
  {
   "attachments": {},
   "cell_type": "markdown",
   "id": "c56dfe69-63f5-40e3-ba44-06a518d7f7f3",
   "metadata": {},
   "source": [
    "# 'addicthyメニュー化の有無'モデル作成"
   ]
  },
  {
   "cell_type": "code",
   "execution_count": 122,
   "id": "ada26a5f-0854-4f7c-a89a-b20ab3578434",
   "metadata": {},
   "outputs": [
    {
     "data": {
      "text/plain": [
       "Index(['県', 'エリア', 'サロン名', 'セット面の数', 'ブログ投稿数', '口コミ数', 'スタッフ数', 'クーポン数',\n",
       "       'メニュー数', 'スタイル数', 'コメントへの返信率', '駅徒歩', 'イルミナメニュー化の有無', 'Aujuaメニュー化の有無',\n",
       "       'addicthyメニュー化の有無', 'inoaメニュー化の有無'],\n",
       "      dtype='object')"
      ]
     },
     "execution_count": 122,
     "metadata": {},
     "output_type": "execute_result"
    }
   ],
   "source": [
    "df.columns"
   ]
  },
  {
   "cell_type": "code",
   "execution_count": 123,
   "id": "dc0207c1-c9c2-41b3-b394-42ae4b6d9fff",
   "metadata": {},
   "outputs": [],
   "source": [
    "prediction_column = 'addicthyメニュー化の有無'"
   ]
  },
  {
   "cell_type": "code",
   "execution_count": 124,
   "id": "637cf0bc-845c-4711-ae00-6bf7db3ae676",
   "metadata": {},
   "outputs": [
    {
     "data": {
      "text/html": [
       "<div>\n",
       "<style scoped>\n",
       "    .dataframe tbody tr th:only-of-type {\n",
       "        vertical-align: middle;\n",
       "    }\n",
       "\n",
       "    .dataframe tbody tr th {\n",
       "        vertical-align: top;\n",
       "    }\n",
       "\n",
       "    .dataframe thead th {\n",
       "        text-align: right;\n",
       "    }\n",
       "</style>\n",
       "<table border=\"1\" class=\"dataframe\">\n",
       "  <thead>\n",
       "    <tr style=\"text-align: right;\">\n",
       "      <th></th>\n",
       "      <th>県</th>\n",
       "      <th>エリア</th>\n",
       "      <th>セット面の数</th>\n",
       "      <th>ブログ投稿数</th>\n",
       "      <th>口コミ数</th>\n",
       "      <th>スタッフ数</th>\n",
       "      <th>クーポン数</th>\n",
       "      <th>メニュー数</th>\n",
       "      <th>スタイル数</th>\n",
       "      <th>駅徒歩</th>\n",
       "      <th>コメントへの返信率</th>\n",
       "      <th>addicthyメニュー化の有無</th>\n",
       "    </tr>\n",
       "  </thead>\n",
       "  <tbody>\n",
       "    <tr>\n",
       "      <th>0</th>\n",
       "      <td>島根</td>\n",
       "      <td>松江</td>\n",
       "      <td>18</td>\n",
       "      <td>237</td>\n",
       "      <td>179</td>\n",
       "      <td>7</td>\n",
       "      <td>24</td>\n",
       "      <td>41</td>\n",
       "      <td>48</td>\n",
       "      <td>5.0</td>\n",
       "      <td>0.983</td>\n",
       "      <td>0</td>\n",
       "    </tr>\n",
       "    <tr>\n",
       "      <th>1</th>\n",
       "      <td>島根</td>\n",
       "      <td>松江</td>\n",
       "      <td>10</td>\n",
       "      <td>15</td>\n",
       "      <td>161</td>\n",
       "      <td>8</td>\n",
       "      <td>34</td>\n",
       "      <td>42</td>\n",
       "      <td>5</td>\n",
       "      <td>NaN</td>\n",
       "      <td>0.130</td>\n",
       "      <td>1</td>\n",
       "    </tr>\n",
       "    <tr>\n",
       "      <th>2</th>\n",
       "      <td>島根</td>\n",
       "      <td>松江</td>\n",
       "      <td>10</td>\n",
       "      <td>97</td>\n",
       "      <td>209</td>\n",
       "      <td>5</td>\n",
       "      <td>15</td>\n",
       "      <td>24</td>\n",
       "      <td>23</td>\n",
       "      <td>NaN</td>\n",
       "      <td>0.981</td>\n",
       "      <td>0</td>\n",
       "    </tr>\n",
       "    <tr>\n",
       "      <th>3</th>\n",
       "      <td>島根</td>\n",
       "      <td>松江</td>\n",
       "      <td>4</td>\n",
       "      <td>0</td>\n",
       "      <td>63</td>\n",
       "      <td>3</td>\n",
       "      <td>29</td>\n",
       "      <td>37</td>\n",
       "      <td>0</td>\n",
       "      <td>NaN</td>\n",
       "      <td>0.000</td>\n",
       "      <td>0</td>\n",
       "    </tr>\n",
       "    <tr>\n",
       "      <th>4</th>\n",
       "      <td>島根</td>\n",
       "      <td>松江</td>\n",
       "      <td>8</td>\n",
       "      <td>104</td>\n",
       "      <td>340</td>\n",
       "      <td>8</td>\n",
       "      <td>30</td>\n",
       "      <td>26</td>\n",
       "      <td>44</td>\n",
       "      <td>NaN</td>\n",
       "      <td>0.767</td>\n",
       "      <td>0</td>\n",
       "    </tr>\n",
       "    <tr>\n",
       "      <th>...</th>\n",
       "      <td>...</td>\n",
       "      <td>...</td>\n",
       "      <td>...</td>\n",
       "      <td>...</td>\n",
       "      <td>...</td>\n",
       "      <td>...</td>\n",
       "      <td>...</td>\n",
       "      <td>...</td>\n",
       "      <td>...</td>\n",
       "      <td>...</td>\n",
       "      <td>...</td>\n",
       "      <td>...</td>\n",
       "    </tr>\n",
       "    <tr>\n",
       "      <th>4074</th>\n",
       "      <td>福山・尾道</td>\n",
       "      <td>福山駅前・三吉周辺</td>\n",
       "      <td>1</td>\n",
       "      <td>0</td>\n",
       "      <td>50</td>\n",
       "      <td>1</td>\n",
       "      <td>0</td>\n",
       "      <td>16</td>\n",
       "      <td>0</td>\n",
       "      <td>NaN</td>\n",
       "      <td>0.000</td>\n",
       "      <td>0</td>\n",
       "    </tr>\n",
       "    <tr>\n",
       "      <th>4075</th>\n",
       "      <td>福山・尾道</td>\n",
       "      <td>福山駅前・三吉周辺</td>\n",
       "      <td>2</td>\n",
       "      <td>0</td>\n",
       "      <td>33</td>\n",
       "      <td>2</td>\n",
       "      <td>0</td>\n",
       "      <td>23</td>\n",
       "      <td>0</td>\n",
       "      <td>NaN</td>\n",
       "      <td>0.970</td>\n",
       "      <td>0</td>\n",
       "    </tr>\n",
       "    <tr>\n",
       "      <th>4076</th>\n",
       "      <td>福山・尾道</td>\n",
       "      <td>福山駅前・三吉周辺</td>\n",
       "      <td>4</td>\n",
       "      <td>0</td>\n",
       "      <td>3</td>\n",
       "      <td>1</td>\n",
       "      <td>0</td>\n",
       "      <td>43</td>\n",
       "      <td>0</td>\n",
       "      <td>NaN</td>\n",
       "      <td>1.000</td>\n",
       "      <td>0</td>\n",
       "    </tr>\n",
       "    <tr>\n",
       "      <th>4077</th>\n",
       "      <td>福山・尾道</td>\n",
       "      <td>福山駅前・三吉周辺</td>\n",
       "      <td>1</td>\n",
       "      <td>0</td>\n",
       "      <td>43</td>\n",
       "      <td>1</td>\n",
       "      <td>0</td>\n",
       "      <td>12</td>\n",
       "      <td>0</td>\n",
       "      <td>NaN</td>\n",
       "      <td>0.721</td>\n",
       "      <td>0</td>\n",
       "    </tr>\n",
       "    <tr>\n",
       "      <th>4078</th>\n",
       "      <td>福山・尾道</td>\n",
       "      <td>福山駅前・三吉周辺</td>\n",
       "      <td>2</td>\n",
       "      <td>0</td>\n",
       "      <td>12</td>\n",
       "      <td>1</td>\n",
       "      <td>0</td>\n",
       "      <td>10</td>\n",
       "      <td>0</td>\n",
       "      <td>15.0</td>\n",
       "      <td>1.000</td>\n",
       "      <td>0</td>\n",
       "    </tr>\n",
       "  </tbody>\n",
       "</table>\n",
       "<p>4079 rows × 12 columns</p>\n",
       "</div>"
      ],
      "text/plain": [
       "          県        エリア  セット面の数  ブログ投稿数  口コミ数  スタッフ数  クーポン数  メニュー数  スタイル数  \\\n",
       "0        島根         松江      18     237   179      7     24     41     48   \n",
       "1        島根         松江      10      15   161      8     34     42      5   \n",
       "2        島根         松江      10      97   209      5     15     24     23   \n",
       "3        島根         松江       4       0    63      3     29     37      0   \n",
       "4        島根         松江       8     104   340      8     30     26     44   \n",
       "...     ...        ...     ...     ...   ...    ...    ...    ...    ...   \n",
       "4074  福山・尾道  福山駅前・三吉周辺       1       0    50      1      0     16      0   \n",
       "4075  福山・尾道  福山駅前・三吉周辺       2       0    33      2      0     23      0   \n",
       "4076  福山・尾道  福山駅前・三吉周辺       4       0     3      1      0     43      0   \n",
       "4077  福山・尾道  福山駅前・三吉周辺       1       0    43      1      0     12      0   \n",
       "4078  福山・尾道  福山駅前・三吉周辺       2       0    12      1      0     10      0   \n",
       "\n",
       "       駅徒歩  コメントへの返信率  addicthyメニュー化の有無  \n",
       "0      5.0      0.983                 0  \n",
       "1      NaN      0.130                 1  \n",
       "2      NaN      0.981                 0  \n",
       "3      NaN      0.000                 0  \n",
       "4      NaN      0.767                 0  \n",
       "...    ...        ...               ...  \n",
       "4074   NaN      0.000                 0  \n",
       "4075   NaN      0.970                 0  \n",
       "4076   NaN      1.000                 0  \n",
       "4077   NaN      0.721                 0  \n",
       "4078  15.0      1.000                 0  \n",
       "\n",
       "[4079 rows x 12 columns]"
      ]
     },
     "metadata": {},
     "output_type": "display_data"
    }
   ],
   "source": [
    "_df = df.copy()\n",
    "_df=_df[['県', 'エリア', 'セット面の数', 'ブログ投稿数', '口コミ数', 'スタッフ数', 'クーポン数',\n",
    "       'メニュー数', 'スタイル数', '駅徒歩', 'コメントへの返信率', prediction_column]]\n",
    "# _df=_df[_df[prediction_column]!=0.0].reset_index(drop=True)\n",
    "display(_df)"
   ]
  },
  {
   "cell_type": "code",
   "execution_count": 125,
   "id": "4ee9acf4-e2e6-4b3e-827b-41fc3c0736cc",
   "metadata": {},
   "outputs": [],
   "source": [
    "_df_X = _df.drop(prediction_column, axis=1).reset_index(drop=True)\n",
    "_df_y = _df[prediction_column].reset_index(drop=True)\n",
    "_df_X['県'] = _df_X['県'].astype('category')\n",
    "_df_X['エリア'] = _df_X['エリア'].astype('category')"
   ]
  },
  {
   "cell_type": "code",
   "execution_count": 126,
   "id": "73e86a89-a823-4fc3-ac4c-2b756867ac28",
   "metadata": {},
   "outputs": [],
   "source": [
    "params={\n",
    "    \"n_estimators\": 10000,\n",
    "    \"learning_rate\":0.1,\n",
    "    \"random_seed\":0,\n",
    "    \"num_leaves\":100,\n",
    "    \"max_depth\":60,\n",
    "    \"n_jobs\": -1,\n",
    "    \"categorical_feature\":['県', 'エリア'],\n",
    "    'objective': 'binary',\n",
    "}"
   ]
  },
  {
   "cell_type": "code",
   "execution_count": 127,
   "id": "885b217b-ef6c-4686-a85f-de023ebfc2f4",
   "metadata": {
    "scrolled": true
   },
   "outputs": [
    {
     "name": "stderr",
     "output_type": "stream",
     "text": [
      "0it [00:00, ?it/s]"
     ]
    },
    {
     "name": "stdout",
     "output_type": "stream",
     "text": [
      "Training until validation scores don't improve for 10 rounds\n"
     ]
    },
    {
     "name": "stderr",
     "output_type": "stream",
     "text": [
      "1it [00:00,  3.00it/s]"
     ]
    },
    {
     "name": "stdout",
     "output_type": "stream",
     "text": [
      "Early stopping, best iteration is:\n",
      "[19]\tvalid_0's binary_logloss: 0.196165\n",
      "Training until validation scores don't improve for 10 rounds\n"
     ]
    },
    {
     "name": "stderr",
     "output_type": "stream",
     "text": [
      "5it [00:00,  7.05it/s]"
     ]
    },
    {
     "name": "stdout",
     "output_type": "stream",
     "text": [
      "Early stopping, best iteration is:\n",
      "[16]\tvalid_0's binary_logloss: 0.194508\n",
      "Training until validation scores don't improve for 10 rounds\n",
      "Early stopping, best iteration is:\n",
      "[17]\tvalid_0's binary_logloss: 0.199564\n",
      "Training until validation scores don't improve for 10 rounds\n",
      "Early stopping, best iteration is:\n",
      "[11]\tvalid_0's binary_logloss: 0.208926\n",
      "Training until validation scores don't improve for 10 rounds\n",
      "Early stopping, best iteration is:\n",
      "[12]\tvalid_0's binary_logloss: 0.197402\n"
     ]
    },
    {
     "name": "stderr",
     "output_type": "stream",
     "text": [
      "\n"
     ]
    }
   ],
   "source": [
    "from tqdm import tqdm\n",
    "from lightgbm.callback import early_stopping\n",
    "from sklearn.metrics import mean_squared_error\n",
    "from sklearn.model_selection import train_test_split, StratifiedKFold, GridSearchCV, KFold\n",
    "from lightgbm import LGBMClassifier\n",
    "import lightgbm as lgb\n",
    "from sklearn.metrics import precision_score, f1_score, recall_score\n",
    "SKF = StratifiedKFold(n_splits=5, shuffle=True, random_state=0)\n",
    "\n",
    "df_y_preds = pd.DataFrame()\n",
    "df_y_observes = pd.DataFrame()\n",
    "models = []\n",
    "f1_scores = []\n",
    "precision_scores = []\n",
    "recall_scores = []\n",
    "\n",
    "for train_index, valid_index in tqdm(SKF.split(X=_df_X, y=_df_y)):\n",
    "    X_train = _df_X.loc[train_index, :]\n",
    "    y_train = _df_y[train_index]\n",
    "    X_valid = _df_X.loc[valid_index, :]\n",
    "    y_valid = _df_y[valid_index]\n",
    "    \n",
    "    model = LGBMClassifier(**params)\n",
    "\n",
    "    \n",
    "    model.fit(X_train, y_train, \n",
    "         eval_metric='binary_logloss',  # early_stoppingの評価指標(学習用の'metric'パラメータにも同じ指標が自動入力される)\n",
    "         eval_set=[(X_valid, y_valid)],\n",
    "         callbacks=[lgb.early_stopping(stopping_rounds=10)]\n",
    "         )\n",
    "    \n",
    "    y_pred = model.predict(X_valid)\n",
    "    \n",
    "    df_y_preds = pd.concat([df_y_preds, pd.DataFrame(y_pred)])\n",
    "    df_y_observes = pd.concat([df_y_observes, y_valid])\n",
    "\n",
    "    # 適合率とF1スコアの計算\n",
    "    recall= recall_score(y_valid, y_pred)\n",
    "    precision = precision_score(y_valid, y_pred)\n",
    "    f1 = f1_score(y_pred,y_valid)\n",
    "\n",
    "    models.append(model)\n",
    "    precision_scores.append(precision)\n",
    "    recall_scores.append(recall)\n",
    "    f1_scores.append(f1)\n",
    "    "
   ]
  },
  {
   "cell_type": "code",
   "execution_count": 128,
   "id": "5dfb6b81-3d83-478c-a70d-047583b21d82",
   "metadata": {},
   "outputs": [
    {
     "data": {
      "text/html": [
       "<div>\n",
       "<style scoped>\n",
       "    .dataframe tbody tr th:only-of-type {\n",
       "        vertical-align: middle;\n",
       "    }\n",
       "\n",
       "    .dataframe tbody tr th {\n",
       "        vertical-align: top;\n",
       "    }\n",
       "\n",
       "    .dataframe thead tr th {\n",
       "        text-align: left;\n",
       "    }\n",
       "</style>\n",
       "<table border=\"1\" class=\"dataframe\">\n",
       "  <thead>\n",
       "    <tr>\n",
       "      <th></th>\n",
       "      <th>f1_score</th>\n",
       "      <th>presiodion</th>\n",
       "      <th>recall</th>\n",
       "    </tr>\n",
       "  </thead>\n",
       "  <tbody>\n",
       "    <tr>\n",
       "      <th>0</th>\n",
       "      <td>0.231884</td>\n",
       "      <td>0.666667</td>\n",
       "      <td>0.140351</td>\n",
       "    </tr>\n",
       "    <tr>\n",
       "      <th>1</th>\n",
       "      <td>0.324324</td>\n",
       "      <td>0.750000</td>\n",
       "      <td>0.206897</td>\n",
       "    </tr>\n",
       "    <tr>\n",
       "      <th>2</th>\n",
       "      <td>0.373333</td>\n",
       "      <td>0.823529</td>\n",
       "      <td>0.241379</td>\n",
       "    </tr>\n",
       "    <tr>\n",
       "      <th>3</th>\n",
       "      <td>0.281690</td>\n",
       "      <td>0.769231</td>\n",
       "      <td>0.172414</td>\n",
       "    </tr>\n",
       "    <tr>\n",
       "      <th>4</th>\n",
       "      <td>0.394737</td>\n",
       "      <td>0.789474</td>\n",
       "      <td>0.263158</td>\n",
       "    </tr>\n",
       "  </tbody>\n",
       "</table>\n",
       "</div>"
      ],
      "text/plain": [
       "   f1_score presiodion    recall\n",
       "0  0.231884   0.666667  0.140351\n",
       "1  0.324324   0.750000  0.206897\n",
       "2  0.373333   0.823529  0.241379\n",
       "3  0.281690   0.769231  0.172414\n",
       "4  0.394737   0.789474  0.263158"
      ]
     },
     "metadata": {},
     "output_type": "display_data"
    }
   ],
   "source": [
    "# 結果をまとめておく\n",
    "import datetime\n",
    "\n",
    "df_result = pd.DataFrame(columns=[[\"f1_score\", \"presiodion\", \"recall\"]])\n",
    "\n",
    "df_result[\"f1_score\"] = f1_scores\n",
    "df_result[\"presiodion\"] = precision_scores\n",
    "df_result[\"recall\"] = recall_scores\n",
    "\n",
    "\n",
    "# 結果をcsvファイルに書き出す\n",
    "# df_result.to_csv(f\"wcv_result_targetVariable:{prediction_column}_{datetime.datetime.today()}.csv\", index=False)\n",
    "# データフレームで結果の表示\n",
    "df_result\n",
    "display(df_result)"
   ]
  },
  {
   "cell_type": "code",
   "execution_count": 129,
   "id": "863a16d0-67e8-4750-82f5-7c4259fd1a4b",
   "metadata": {},
   "outputs": [
    {
     "name": "stdout",
     "output_type": "stream",
     "text": [
      "0.0 1.0 1.0\n"
     ]
    },
    {
     "data": {
      "image/png": "[encoded data removed]",
      "text/plain": [
       "<Figure size 800x800 with 1 Axes>"
      ]
     },
     "metadata": {},
     "output_type": "display_data"
    },
    {
     "name": "stdout",
     "output_type": "stream",
     "text": [
      "決定係数：0.077\n",
      "RMSE：0.25\n"
     ]
    }
   ],
   "source": [
    "from matplotlib import pyplot as plt\n",
    "from sklearn.metrics import r2_score\n",
    "from sklearn.metrics import mean_squared_error\n",
    "\n",
    "# グラフのラベルを定義\n",
    "graph_title = \"\"\n",
    "\n",
    "# yyplot 作成関数\n",
    "def yyplot(y_obs, y_pred):\n",
    "    yvalues = np.concatenate([y_obs.flatten(), y_pred.flatten()])\n",
    "    ymin, ymax, yrange = np.amin(yvalues), np.amax(yvalues), np.ptp(yvalues)\n",
    "    print(ymin, ymax, yrange)\n",
    "    fig = plt.figure(figsize=(8, 8))\n",
    "    plt.scatter(y_obs, y_pred)\n",
    "    plt.plot([ymin - yrange * 0.01, ymax + yrange * 0.01], [ymin - yrange * 0.01, ymax + yrange * 0.01])\n",
    "    # plt.xlim(ymin - yrange * 0.01, ymax + yrange * 0.01)\n",
    "    # plt.ylim(ymin - yrange * 0.01, ymax + yrange * 0.01)\n",
    "    plt.xlabel('y_observed', fontsize=24)\n",
    "    plt.ylabel('y_predicted', fontsize=24)\n",
    "    plt.title(graph_title, fontsize=24)\n",
    "    plt.tick_params(labelsize=16)\n",
    "    plt.show()\n",
    "\n",
    "    return fig\n",
    "\n",
    "# yyplot の実行例\n",
    "np.random.seed(0)\n",
    "y_obs = np.random.normal(size=(1000, 1))\n",
    "y_pred = y_obs + np.random.normal(scale=0.3, size=(1000, 1))\n",
    "# dataframe→numpy配列にするために.valuesを実行\n",
    "fig = yyplot(df_y_observes.values, df_y_preds.values)\n",
    "\n",
    "# 決定係数の算出\n",
    "r2 = r2_score(df_y_observes.values, df_y_preds.values)\n",
    "print(\"決定係数：\" + '{:.3f}'.format(r2))\n",
    "\n",
    "# RMSEの算出\n",
    "mse = mean_squared_error(y_true=df_y_observes.values, y_pred=df_y_preds.values)\n",
    "print(\"RMSE：\" + '{:.2f}'.format(np.sqrt(mse)))"
   ]
  },
  {
   "cell_type": "code",
   "execution_count": 140,
   "id": "0b2514c9-9456-4dce-a5dc-cd62f8f57531",
   "metadata": {},
   "outputs": [
    {
     "data": {
      "text/plain": [
       "1197    0\n",
       "Name: addicthyメニュー化の有無, dtype: int64"
      ]
     },
     "metadata": {},
     "output_type": "display_data"
    }
   ],
   "source": [
    "import random\n",
    "tmp_index = random.randint(1, 3900)\n",
    "\n",
    "tmp_df_X = _df.iloc[tmp_index:tmp_index+1, :-1]\n",
    "tmp_df_y = _df.iloc[tmp_index:tmp_index+1, -1]\n",
    "display(tmp_df_y)\n",
    "tmp_df_X['県'] = tmp_df_X['県'].astype('category')\n",
    "tmp_df_X['エリア'] = tmp_df_X['エリア'].astype('category')"
   ]
  },
  {
   "cell_type": "code",
   "execution_count": 141,
   "id": "0e0a3935-45ef-47b6-8724-2b0c6583c51f",
   "metadata": {},
   "outputs": [
    {
     "name": "stdout",
     "output_type": "stream",
     "text": [
      "[array([0]), array([0]), array([0]), array([0]), array([0])]\n",
      "0\n"
     ]
    }
   ],
   "source": [
    "_scores=[]\n",
    "for model in models:\n",
    "    _scores.append(model.predict(tmp_df_X))\n",
    "print(_scores)\n",
    "_score_mode = int(stats.mode(_scores).mode)\n",
    "print(_score_mode)"
   ]
  },
  {
   "cell_type": "code",
   "execution_count": 142,
   "id": "a62c1c5e-85a9-41d2-bdf5-ce6143c31103",
   "metadata": {},
   "outputs": [
    {
     "name": "stdout",
     "output_type": "stream",
     "text": [
      "0 0.0\n"
     ]
    }
   ],
   "source": [
    "print((_score_mode), float(tmp_df_y))"
   ]
  },
  {
   "cell_type": "code",
   "execution_count": 143,
   "id": "f23bcbff-a19d-4342-a4e2-62fb9c6b1fe1",
   "metadata": {},
   "outputs": [
    {
     "name": "stdout",
     "output_type": "stream",
     "text": [
      "[array([0.0736745]), array([0.03617589]), array([0.05181083]), array([0.04332941]), array([0.06103336])]\n"
     ]
    }
   ],
   "source": [
    "_scores=[]\n",
    "for model in models:\n",
    "    _scores.append(model.predict_proba(tmp_df_X)[:, 1])\n",
    "\n",
    "print(_scores)\n",
    "\n",
    "if _score_mode == 1:\n",
    "    _score=np.mean(_scores)\n",
    "else:\n",
    "    _score=np.max(_scores)"
   ]
  },
  {
   "cell_type": "code",
   "execution_count": 144,
   "id": "d251f588-fbe0-4c15-8c4b-2cd6bbd39f9a",
   "metadata": {},
   "outputs": [
    {
     "name": "stdout",
     "output_type": "stream",
     "text": [
      "0.07 0.0\n"
     ]
    }
   ],
   "source": [
    "print(round(_score,2), float(tmp_df_y))"
   ]
  },
  {
   "cell_type": "code",
   "execution_count": 145,
   "id": "8a0eef0f-905d-40d7-a40e-38c64d80c3df",
   "metadata": {},
   "outputs": [],
   "source": [
    "import pickle\n",
    "\n",
    "with open(f'/Users/masudaniwabinari/Desktop/HPB_analysis_dashboard/model/brand_classification/{prediction_column}_models.pkl', mode='wb') as p:\n",
    "    pickle.dump(models, p)"
   ]
  },
  {
   "cell_type": "code",
   "execution_count": null,
   "id": "90a5c425-fc3b-419e-92f8-a65c3518005c",
   "metadata": {},
   "outputs": [],
   "source": []
  },
  {
   "attachments": {},
   "cell_type": "markdown",
   "id": "facecc12-a229-4425-869d-41508011400d",
   "metadata": {},
   "source": [
    "# 'inoaメニュー化の有無'モデル作成"
   ]
  },
  {
   "cell_type": "code",
   "execution_count": 204,
   "id": "8b3d60c6-757d-4f6f-9aca-2cff0e72b842",
   "metadata": {},
   "outputs": [
    {
     "data": {
      "text/plain": [
       "Index(['県', 'エリア', 'サロン名', 'セット面の数', 'ブログ投稿数', '口コミ数', 'スタッフ数', 'クーポン数',\n",
       "       'メニュー数', 'スタイル数', 'コメントへの返信率', '駅徒歩', 'イルミナメニュー化の有無', 'Aujuaメニュー化の有無',\n",
       "       'addicthyメニュー化の有無', 'inoaメニュー化の有無'],\n",
       "      dtype='object')"
      ]
     },
     "execution_count": 204,
     "metadata": {},
     "output_type": "execute_result"
    }
   ],
   "source": [
    "df.columns"
   ]
  },
  {
   "cell_type": "code",
   "execution_count": 211,
   "id": "693b1829-05e6-4021-b891-560b37fb832e",
   "metadata": {},
   "outputs": [],
   "source": [
    "prediction_column = 'inoaメニュー化の有無'"
   ]
  },
  {
   "cell_type": "code",
   "execution_count": 212,
   "id": "a2ea7b34-cb29-439b-a8af-47336c8f8158",
   "metadata": {},
   "outputs": [
    {
     "data": {
      "text/html": [
       "<div>\n",
       "<style scoped>\n",
       "    .dataframe tbody tr th:only-of-type {\n",
       "        vertical-align: middle;\n",
       "    }\n",
       "\n",
       "    .dataframe tbody tr th {\n",
       "        vertical-align: top;\n",
       "    }\n",
       "\n",
       "    .dataframe thead th {\n",
       "        text-align: right;\n",
       "    }\n",
       "</style>\n",
       "<table border=\"1\" class=\"dataframe\">\n",
       "  <thead>\n",
       "    <tr style=\"text-align: right;\">\n",
       "      <th></th>\n",
       "      <th>県</th>\n",
       "      <th>エリア</th>\n",
       "      <th>セット面の数</th>\n",
       "      <th>ブログ投稿数</th>\n",
       "      <th>口コミ数</th>\n",
       "      <th>スタッフ数</th>\n",
       "      <th>クーポン数</th>\n",
       "      <th>メニュー数</th>\n",
       "      <th>スタイル数</th>\n",
       "      <th>駅徒歩</th>\n",
       "      <th>コメントへの返信率</th>\n",
       "      <th>inoaメニュー化の有無</th>\n",
       "    </tr>\n",
       "  </thead>\n",
       "  <tbody>\n",
       "    <tr>\n",
       "      <th>0</th>\n",
       "      <td>島根</td>\n",
       "      <td>松江</td>\n",
       "      <td>18</td>\n",
       "      <td>237</td>\n",
       "      <td>179</td>\n",
       "      <td>7</td>\n",
       "      <td>24</td>\n",
       "      <td>41</td>\n",
       "      <td>48</td>\n",
       "      <td>5.0</td>\n",
       "      <td>0.983</td>\n",
       "      <td>0</td>\n",
       "    </tr>\n",
       "    <tr>\n",
       "      <th>1</th>\n",
       "      <td>島根</td>\n",
       "      <td>松江</td>\n",
       "      <td>10</td>\n",
       "      <td>15</td>\n",
       "      <td>161</td>\n",
       "      <td>8</td>\n",
       "      <td>34</td>\n",
       "      <td>42</td>\n",
       "      <td>5</td>\n",
       "      <td>NaN</td>\n",
       "      <td>0.130</td>\n",
       "      <td>0</td>\n",
       "    </tr>\n",
       "    <tr>\n",
       "      <th>2</th>\n",
       "      <td>島根</td>\n",
       "      <td>松江</td>\n",
       "      <td>10</td>\n",
       "      <td>97</td>\n",
       "      <td>209</td>\n",
       "      <td>5</td>\n",
       "      <td>15</td>\n",
       "      <td>24</td>\n",
       "      <td>23</td>\n",
       "      <td>NaN</td>\n",
       "      <td>0.981</td>\n",
       "      <td>0</td>\n",
       "    </tr>\n",
       "    <tr>\n",
       "      <th>3</th>\n",
       "      <td>島根</td>\n",
       "      <td>松江</td>\n",
       "      <td>4</td>\n",
       "      <td>0</td>\n",
       "      <td>63</td>\n",
       "      <td>3</td>\n",
       "      <td>29</td>\n",
       "      <td>37</td>\n",
       "      <td>0</td>\n",
       "      <td>NaN</td>\n",
       "      <td>0.000</td>\n",
       "      <td>0</td>\n",
       "    </tr>\n",
       "    <tr>\n",
       "      <th>4</th>\n",
       "      <td>島根</td>\n",
       "      <td>松江</td>\n",
       "      <td>8</td>\n",
       "      <td>104</td>\n",
       "      <td>340</td>\n",
       "      <td>8</td>\n",
       "      <td>30</td>\n",
       "      <td>26</td>\n",
       "      <td>44</td>\n",
       "      <td>NaN</td>\n",
       "      <td>0.767</td>\n",
       "      <td>0</td>\n",
       "    </tr>\n",
       "    <tr>\n",
       "      <th>...</th>\n",
       "      <td>...</td>\n",
       "      <td>...</td>\n",
       "      <td>...</td>\n",
       "      <td>...</td>\n",
       "      <td>...</td>\n",
       "      <td>...</td>\n",
       "      <td>...</td>\n",
       "      <td>...</td>\n",
       "      <td>...</td>\n",
       "      <td>...</td>\n",
       "      <td>...</td>\n",
       "      <td>...</td>\n",
       "    </tr>\n",
       "    <tr>\n",
       "      <th>4074</th>\n",
       "      <td>福山・尾道</td>\n",
       "      <td>福山駅前・三吉周辺</td>\n",
       "      <td>1</td>\n",
       "      <td>0</td>\n",
       "      <td>50</td>\n",
       "      <td>1</td>\n",
       "      <td>0</td>\n",
       "      <td>16</td>\n",
       "      <td>0</td>\n",
       "      <td>NaN</td>\n",
       "      <td>0.000</td>\n",
       "      <td>0</td>\n",
       "    </tr>\n",
       "    <tr>\n",
       "      <th>4075</th>\n",
       "      <td>福山・尾道</td>\n",
       "      <td>福山駅前・三吉周辺</td>\n",
       "      <td>2</td>\n",
       "      <td>0</td>\n",
       "      <td>33</td>\n",
       "      <td>2</td>\n",
       "      <td>0</td>\n",
       "      <td>23</td>\n",
       "      <td>0</td>\n",
       "      <td>NaN</td>\n",
       "      <td>0.970</td>\n",
       "      <td>0</td>\n",
       "    </tr>\n",
       "    <tr>\n",
       "      <th>4076</th>\n",
       "      <td>福山・尾道</td>\n",
       "      <td>福山駅前・三吉周辺</td>\n",
       "      <td>4</td>\n",
       "      <td>0</td>\n",
       "      <td>3</td>\n",
       "      <td>1</td>\n",
       "      <td>0</td>\n",
       "      <td>43</td>\n",
       "      <td>0</td>\n",
       "      <td>NaN</td>\n",
       "      <td>1.000</td>\n",
       "      <td>0</td>\n",
       "    </tr>\n",
       "    <tr>\n",
       "      <th>4077</th>\n",
       "      <td>福山・尾道</td>\n",
       "      <td>福山駅前・三吉周辺</td>\n",
       "      <td>1</td>\n",
       "      <td>0</td>\n",
       "      <td>43</td>\n",
       "      <td>1</td>\n",
       "      <td>0</td>\n",
       "      <td>12</td>\n",
       "      <td>0</td>\n",
       "      <td>NaN</td>\n",
       "      <td>0.721</td>\n",
       "      <td>0</td>\n",
       "    </tr>\n",
       "    <tr>\n",
       "      <th>4078</th>\n",
       "      <td>福山・尾道</td>\n",
       "      <td>福山駅前・三吉周辺</td>\n",
       "      <td>2</td>\n",
       "      <td>0</td>\n",
       "      <td>12</td>\n",
       "      <td>1</td>\n",
       "      <td>0</td>\n",
       "      <td>10</td>\n",
       "      <td>0</td>\n",
       "      <td>15.0</td>\n",
       "      <td>1.000</td>\n",
       "      <td>0</td>\n",
       "    </tr>\n",
       "  </tbody>\n",
       "</table>\n",
       "<p>4079 rows × 12 columns</p>\n",
       "</div>"
      ],
      "text/plain": [
       "          県        エリア  セット面の数  ブログ投稿数  口コミ数  スタッフ数  クーポン数  メニュー数  スタイル数  \\\n",
       "0        島根         松江      18     237   179      7     24     41     48   \n",
       "1        島根         松江      10      15   161      8     34     42      5   \n",
       "2        島根         松江      10      97   209      5     15     24     23   \n",
       "3        島根         松江       4       0    63      3     29     37      0   \n",
       "4        島根         松江       8     104   340      8     30     26     44   \n",
       "...     ...        ...     ...     ...   ...    ...    ...    ...    ...   \n",
       "4074  福山・尾道  福山駅前・三吉周辺       1       0    50      1      0     16      0   \n",
       "4075  福山・尾道  福山駅前・三吉周辺       2       0    33      2      0     23      0   \n",
       "4076  福山・尾道  福山駅前・三吉周辺       4       0     3      1      0     43      0   \n",
       "4077  福山・尾道  福山駅前・三吉周辺       1       0    43      1      0     12      0   \n",
       "4078  福山・尾道  福山駅前・三吉周辺       2       0    12      1      0     10      0   \n",
       "\n",
       "       駅徒歩  コメントへの返信率  inoaメニュー化の有無  \n",
       "0      5.0      0.983             0  \n",
       "1      NaN      0.130             0  \n",
       "2      NaN      0.981             0  \n",
       "3      NaN      0.000             0  \n",
       "4      NaN      0.767             0  \n",
       "...    ...        ...           ...  \n",
       "4074   NaN      0.000             0  \n",
       "4075   NaN      0.970             0  \n",
       "4076   NaN      1.000             0  \n",
       "4077   NaN      0.721             0  \n",
       "4078  15.0      1.000             0  \n",
       "\n",
       "[4079 rows x 12 columns]"
      ]
     },
     "metadata": {},
     "output_type": "display_data"
    }
   ],
   "source": [
    "_df = df.copy()\n",
    "_df=_df[['県', 'エリア', 'セット面の数', 'ブログ投稿数', '口コミ数', 'スタッフ数', 'クーポン数',\n",
    "       'メニュー数', 'スタイル数', '駅徒歩', 'コメントへの返信率', prediction_column]]\n",
    "# _df=_df[_df[prediction_column]!=0.0].reset_index(drop=True)\n",
    "display(_df)"
   ]
  },
  {
   "cell_type": "code",
   "execution_count": 215,
   "id": "35a1af43-a43c-4150-907a-6aaff863e578",
   "metadata": {},
   "outputs": [
    {
     "data": {
      "text/plain": [
       "0    4016\n",
       "1     126\n",
       "Name: inoaメニュー化の有無, dtype: int64"
      ]
     },
     "execution_count": 215,
     "metadata": {},
     "output_type": "execute_result"
    }
   ],
   "source": [
    "_df['inoaメニュー化の有無'].value_counts()"
   ]
  },
  {
   "cell_type": "code",
   "execution_count": 214,
   "id": "cdaacdd4-6d4d-4a6b-a467-db9dfd771676",
   "metadata": {},
   "outputs": [],
   "source": [
    "_df = pd.concat([_df, _df[_df['inoaメニュー化の有無']==1]])\n",
    "_df=_df.reset_index(drop=True)"
   ]
  },
  {
   "cell_type": "code",
   "execution_count": 216,
   "id": "6edd1572-074b-4c11-a62b-5ba752ccf06e",
   "metadata": {},
   "outputs": [],
   "source": [
    "_df_X = _df.drop(prediction_column, axis=1).reset_index(drop=True)\n",
    "_df_y = _df[prediction_column].reset_index(drop=True)\n",
    "_df_X['県'] = _df_X['県'].astype('category')\n",
    "_df_X['エリア'] = _df_X['エリア'].astype('category')"
   ]
  },
  {
   "cell_type": "code",
   "execution_count": 217,
   "id": "c6559710-b5b4-4139-8601-fd98bb0c0b50",
   "metadata": {},
   "outputs": [],
   "source": [
    "params={\n",
    "    \"n_estimators\": 10000,\n",
    "    \"learning_rate\":0.1,\n",
    "    \"random_seed\":0,\n",
    "    \"num_leaves\":100,\n",
    "    \"max_depth\":60,\n",
    "    \"n_jobs\": -1,\n",
    "    \"categorical_feature\":['県', 'エリア'],\n",
    "    'objective': 'binary',\n",
    "}"
   ]
  },
  {
   "cell_type": "code",
   "execution_count": 218,
   "id": "195f58b1-e54d-4bc0-a60c-f74da6c70570",
   "metadata": {
    "scrolled": true
   },
   "outputs": [
    {
     "name": "stderr",
     "output_type": "stream",
     "text": [
      "1it [00:00,  8.23it/s]"
     ]
    },
    {
     "name": "stdout",
     "output_type": "stream",
     "text": [
      "Training until validation scores don't improve for 10 rounds\n",
      "Early stopping, best iteration is:\n",
      "[31]\tvalid_0's binary_logloss: 0.0648224\n",
      "Training until validation scores don't improve for 10 rounds\n"
     ]
    },
    {
     "name": "stderr",
     "output_type": "stream",
     "text": [
      "3it [00:00,  8.08it/s]"
     ]
    },
    {
     "name": "stdout",
     "output_type": "stream",
     "text": [
      "Early stopping, best iteration is:\n",
      "[55]\tvalid_0's binary_logloss: 0.0240525\n",
      "Training until validation scores don't improve for 10 rounds\n",
      "Early stopping, best iteration is:\n",
      "[45]\tvalid_0's binary_logloss: 0.0336984\n",
      "Training until validation scores don't improve for 10 rounds\n"
     ]
    },
    {
     "name": "stderr",
     "output_type": "stream",
     "text": [
      "5it [00:00,  7.75it/s]"
     ]
    },
    {
     "name": "stdout",
     "output_type": "stream",
     "text": [
      "Early stopping, best iteration is:\n",
      "[45]\tvalid_0's binary_logloss: 0.034574\n",
      "Training until validation scores don't improve for 10 rounds\n",
      "Early stopping, best iteration is:\n",
      "[51]\tvalid_0's binary_logloss: 0.0261503\n"
     ]
    },
    {
     "name": "stderr",
     "output_type": "stream",
     "text": [
      "\n"
     ]
    }
   ],
   "source": [
    "from tqdm import tqdm\n",
    "from lightgbm.callback import early_stopping\n",
    "from sklearn.metrics import mean_squared_error\n",
    "from sklearn.model_selection import train_test_split, StratifiedKFold, GridSearchCV, KFold\n",
    "from lightgbm import LGBMClassifier\n",
    "import lightgbm as lgb\n",
    "from sklearn.metrics import precision_score, f1_score, recall_score\n",
    "SKF = StratifiedKFold(n_splits=5, shuffle=True, random_state=0)\n",
    "\n",
    "df_y_preds = pd.DataFrame()\n",
    "df_y_observes = pd.DataFrame()\n",
    "models = []\n",
    "f1_scores = []\n",
    "precision_scores = []\n",
    "recall_scores = []\n",
    "\n",
    "for train_index, valid_index in tqdm(SKF.split(X=_df_X, y=_df_y)):\n",
    "    X_train = _df_X.loc[train_index, :]\n",
    "    y_train = _df_y[train_index]\n",
    "    X_valid = _df_X.loc[valid_index, :]\n",
    "    y_valid = _df_y[valid_index]\n",
    "    \n",
    "    model = LGBMClassifier(**params)\n",
    "\n",
    "    \n",
    "    model.fit(X_train, y_train, \n",
    "         eval_metric='binary_logloss',  # early_stoppingの評価指標(学習用の'metric'パラメータにも同じ指標が自動入力される)\n",
    "         eval_set=[(X_valid, y_valid)],\n",
    "         callbacks=[lgb.early_stopping(stopping_rounds=10)]\n",
    "         )\n",
    "    \n",
    "    y_pred = model.predict(X_valid)\n",
    "    \n",
    "    df_y_preds = pd.concat([df_y_preds, pd.DataFrame(y_pred)])\n",
    "    df_y_observes = pd.concat([df_y_observes, y_valid])\n",
    "\n",
    "    # 適合率とF1スコアの計算\n",
    "    recall= recall_score(y_valid, y_pred)\n",
    "    precision = precision_score(y_valid, y_pred)\n",
    "    f1 = f1_score(y_pred,y_valid)\n",
    "\n",
    "    models.append(model)\n",
    "    precision_scores.append(precision)\n",
    "    recall_scores.append(recall)\n",
    "    f1_scores.append(f1)\n",
    "    "
   ]
  },
  {
   "cell_type": "code",
   "execution_count": 219,
   "id": "46f79812-90bc-4829-94b9-aaa8fd0534ea",
   "metadata": {},
   "outputs": [
    {
     "data": {
      "text/html": [
       "<div>\n",
       "<style scoped>\n",
       "    .dataframe tbody tr th:only-of-type {\n",
       "        vertical-align: middle;\n",
       "    }\n",
       "\n",
       "    .dataframe tbody tr th {\n",
       "        vertical-align: top;\n",
       "    }\n",
       "\n",
       "    .dataframe thead tr th {\n",
       "        text-align: left;\n",
       "    }\n",
       "</style>\n",
       "<table border=\"1\" class=\"dataframe\">\n",
       "  <thead>\n",
       "    <tr>\n",
       "      <th></th>\n",
       "      <th>f1_score</th>\n",
       "      <th>presiodion</th>\n",
       "      <th>recall</th>\n",
       "    </tr>\n",
       "  </thead>\n",
       "  <tbody>\n",
       "    <tr>\n",
       "      <th>0</th>\n",
       "      <td>0.809524</td>\n",
       "      <td>1.000000</td>\n",
       "      <td>0.680000</td>\n",
       "    </tr>\n",
       "    <tr>\n",
       "      <th>1</th>\n",
       "      <td>0.916667</td>\n",
       "      <td>1.000000</td>\n",
       "      <td>0.846154</td>\n",
       "    </tr>\n",
       "    <tr>\n",
       "      <th>2</th>\n",
       "      <td>0.913043</td>\n",
       "      <td>1.000000</td>\n",
       "      <td>0.840000</td>\n",
       "    </tr>\n",
       "    <tr>\n",
       "      <th>3</th>\n",
       "      <td>0.863636</td>\n",
       "      <td>1.000000</td>\n",
       "      <td>0.760000</td>\n",
       "    </tr>\n",
       "    <tr>\n",
       "      <th>4</th>\n",
       "      <td>0.938776</td>\n",
       "      <td>0.958333</td>\n",
       "      <td>0.920000</td>\n",
       "    </tr>\n",
       "  </tbody>\n",
       "</table>\n",
       "</div>"
      ],
      "text/plain": [
       "   f1_score presiodion    recall\n",
       "0  0.809524   1.000000  0.680000\n",
       "1  0.916667   1.000000  0.846154\n",
       "2  0.913043   1.000000  0.840000\n",
       "3  0.863636   1.000000  0.760000\n",
       "4  0.938776   0.958333  0.920000"
      ]
     },
     "metadata": {},
     "output_type": "display_data"
    }
   ],
   "source": [
    "# 結果をまとめておく\n",
    "import datetime\n",
    "\n",
    "df_result = pd.DataFrame(columns=[[\"f1_score\", \"presiodion\", \"recall\"]])\n",
    "\n",
    "df_result[\"f1_score\"] = f1_scores\n",
    "df_result[\"presiodion\"] = precision_scores\n",
    "df_result[\"recall\"] = recall_scores\n",
    "\n",
    "\n",
    "# 結果をcsvファイルに書き出す\n",
    "# df_result.to_csv(f\"wcv_result_targetVariable:{prediction_column}_{datetime.datetime.today()}.csv\", index=False)\n",
    "# データフレームで結果の表示\n",
    "df_result\n",
    "display(df_result)"
   ]
  },
  {
   "cell_type": "code",
   "execution_count": 225,
   "id": "4d9525ea-3e5a-4ef9-a13e-0c3aec8f6182",
   "metadata": {},
   "outputs": [
    {
     "name": "stdout",
     "output_type": "stream",
     "text": [
      "0.0 1.0 1.0\n"
     ]
    },
    {
     "data": {
      "image/png": "[encoded data removed]",
      "text/plain": [
       "<Figure size 800x800 with 1 Axes>"
      ]
     },
     "metadata": {},
     "output_type": "display_data"
    },
    {
     "name": "stdout",
     "output_type": "stream",
     "text": [
      "決定係数：0.795\n",
      "RMSE：0.08\n"
     ]
    }
   ],
   "source": [
    "from matplotlib import pyplot as plt\n",
    "from sklearn.metrics import r2_score\n",
    "from sklearn.metrics import mean_squared_error\n",
    "\n",
    "# グラフのラベルを定義\n",
    "graph_title = \"\"\n",
    "\n",
    "# yyplot 作成関数\n",
    "def yyplot(y_obs, y_pred):\n",
    "    yvalues = np.concatenate([y_obs.flatten(), y_pred.flatten()])\n",
    "    ymin, ymax, yrange = np.amin(yvalues), np.amax(yvalues), np.ptp(yvalues)\n",
    "    print(ymin, ymax, yrange)\n",
    "    fig = plt.figure(figsize=(8, 8))\n",
    "    plt.scatter(y_obs, y_pred)\n",
    "    plt.plot([ymin - yrange * 0.01, ymax + yrange * 0.01], [ymin - yrange * 0.01, ymax + yrange * 0.01])\n",
    "    # plt.xlim(ymin - yrange * 0.01, ymax + yrange * 0.01)\n",
    "    # plt.ylim(ymin - yrange * 0.01, ymax + yrange * 0.01)\n",
    "    plt.xlabel('y_observed', fontsize=24)\n",
    "    plt.ylabel('y_predicted', fontsize=24)\n",
    "    plt.title(graph_title, fontsize=24)\n",
    "    plt.tick_params(labelsize=16)\n",
    "    plt.show()\n",
    "\n",
    "    return fig\n",
    "\n",
    "# yyplot の実行例\n",
    "np.random.seed(0)\n",
    "y_obs = np.random.normal(size=(1000, 1))\n",
    "y_pred = y_obs + np.random.normal(scale=0.3, size=(1000, 1))\n",
    "# dataframe→numpy配列にするために.valuesを実行\n",
    "fig = yyplot(df_y_observes.values, df_y_preds.values)\n",
    "\n",
    "# 決定係数の算出\n",
    "r2 = r2_score(df_y_observes.values, df_y_preds.values)\n",
    "print(\"決定係数：\" + '{:.3f}'.format(r2))\n",
    "\n",
    "# RMSEの算出\n",
    "mse = mean_squared_error(y_true=df_y_observes.values, y_pred=df_y_preds.values)\n",
    "print(\"RMSE：\" + '{:.2f}'.format(np.sqrt(mse)))"
   ]
  },
  {
   "cell_type": "code",
   "execution_count": 285,
   "id": "84be8148-7b1b-4fc3-985f-df4bc70c4d31",
   "metadata": {},
   "outputs": [
    {
     "data": {
      "text/plain": [
       "1677    1\n",
       "Name: inoaメニュー化の有無, dtype: int64"
      ]
     },
     "metadata": {},
     "output_type": "display_data"
    }
   ],
   "source": [
    "import random\n",
    "tmp_index = random.randint(1, 3900)\n",
    "\n",
    "tmp_df_X = _df.iloc[tmp_index:tmp_index+1, :-1]\n",
    "tmp_df_y = _df.iloc[tmp_index:tmp_index+1, -1]\n",
    "display(tmp_df_y)\n",
    "tmp_df_X['県'] = tmp_df_X['県'].astype('category')\n",
    "tmp_df_X['エリア'] = tmp_df_X['エリア'].astype('category')"
   ]
  },
  {
   "cell_type": "code",
   "execution_count": 286,
   "id": "8675163a-5e9b-4608-a49b-481ce098f937",
   "metadata": {},
   "outputs": [
    {
     "name": "stdout",
     "output_type": "stream",
     "text": [
      "[array([1]), array([1]), array([1]), array([1]), array([1])]\n",
      "1\n"
     ]
    }
   ],
   "source": [
    "_scores=[]\n",
    "for model in models:\n",
    "    _scores.append(model.predict(tmp_df_X))\n",
    "print(_scores)\n",
    "_score_mode = int(stats.mode(_scores).mode)\n",
    "print(_score_mode)"
   ]
  },
  {
   "cell_type": "code",
   "execution_count": 287,
   "id": "a8eb799f-00d9-4d87-9081-39b05b0e5782",
   "metadata": {},
   "outputs": [
    {
     "name": "stdout",
     "output_type": "stream",
     "text": [
      "1 1.0\n"
     ]
    }
   ],
   "source": [
    "print((_score_mode), float(tmp_df_y))"
   ]
  },
  {
   "cell_type": "code",
   "execution_count": 288,
   "id": "d3c70616-6030-4a7e-ab32-cb7477e43f9f",
   "metadata": {},
   "outputs": [
    {
     "name": "stdout",
     "output_type": "stream",
     "text": [
      "[array([0.74340289]), array([0.9808985]), array([0.87522297]), array([0.96112162]), array([0.96909235])]\n"
     ]
    }
   ],
   "source": [
    "_scores=[]\n",
    "for model in models:\n",
    "    _scores.append(model.predict_proba(tmp_df_X)[:, 1])\n",
    "\n",
    "print(_scores)\n",
    "\n",
    "if _score_mode == 1:\n",
    "    _score=np.mean(_scores)\n",
    "else:\n",
    "    _score=np.max(_scores)"
   ]
  },
  {
   "cell_type": "code",
   "execution_count": 289,
   "id": "f82bf71c-d3ba-4fd9-9d6d-57bd97c1f17c",
   "metadata": {},
   "outputs": [
    {
     "name": "stdout",
     "output_type": "stream",
     "text": [
      "0.91 1.0\n"
     ]
    }
   ],
   "source": [
    "print(round(_score,2), float(tmp_df_y))"
   ]
  },
  {
   "cell_type": "code",
   "execution_count": 290,
   "id": "508fd514-9af5-44a1-a84e-8caddba9fba1",
   "metadata": {},
   "outputs": [],
   "source": [
    "import pickle\n",
    "\n",
    "with open(f'/Users/masudaniwabinari/Desktop/HPB_analysis_dashboard/model/brand_classification/{prediction_column}_models.pkl', mode='wb') as p:\n",
    "    pickle.dump(models, p)"
   ]
  },
  {
   "cell_type": "code",
   "execution_count": null,
   "id": "4a7dd23b-ae7f-43a7-a21f-feeb121692ea",
   "metadata": {},
   "outputs": [],
   "source": []
  },
  {
   "cell_type": "code",
   "execution_count": null,
   "id": "869da64d-ca3f-43f9-8a09-30cb37a1fb90",
   "metadata": {},
   "outputs": [],
   "source": []
  },
  {
   "cell_type": "code",
   "execution_count": null,
   "id": "15561a79-4df0-4ca6-9444-f9eb0034fcd3",
   "metadata": {},
   "outputs": [],
   "source": []
  },
  {
   "cell_type": "code",
   "execution_count": null,
   "id": "975190f4-bddd-4511-83f7-af93cf895f99",
   "metadata": {},
   "outputs": [],
   "source": []
  }
 ],
 "metadata": {
  "kernelspec": {
   "display_name": "Python 3 (ipykernel)",
   "language": "python",
   "name": "python3"
  },
  "language_info": {
   "codemirror_mode": {
    "name": "ipython",
    "version": 3
   },
   "file_extension": ".py",
   "mimetype": "text/x-python",
   "name": "python",
   "nbconvert_exporter": "python",
   "pygments_lexer": "ipython3",
   "version": "3.8.10"
  }
 },
 "nbformat": 4,
 "nbformat_minor": 5
}
